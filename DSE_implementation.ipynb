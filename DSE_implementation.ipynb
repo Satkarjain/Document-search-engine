{
  "nbformat": 4,
  "nbformat_minor": 0,
  "metadata": {
    "colab": {
      "name": "DSE_implementation.ipynb",
      "provenance": []
    },
    "kernelspec": {
      "name": "python3",
      "display_name": "Python 3"
    }
  },
  "cells": [
    {
      "cell_type": "code",
      "metadata": {
        "id": "PpT1NjRvYTw6",
        "colab_type": "code",
        "colab": {
          "base_uri": "https://localhost:8080/",
          "height": 213
        },
        "outputId": "fd8373a8-e77a-4ca3-db79-7d0723103bb0"
      },
      "source": [
        "pip install PyPDF2"
      ],
      "execution_count": 6,
      "outputs": [
        {
          "output_type": "stream",
          "text": [
            "Collecting PyPDF2\n",
            "\u001b[?25l  Downloading https://files.pythonhosted.org/packages/b4/01/68fcc0d43daf4c6bdbc6b33cc3f77bda531c86b174cac56ef0ffdb96faab/PyPDF2-1.26.0.tar.gz (77kB)\n",
            "\r\u001b[K     |████▎                           | 10kB 16.3MB/s eta 0:00:01\r\u001b[K     |████████▌                       | 20kB 2.9MB/s eta 0:00:01\r\u001b[K     |████████████▊                   | 30kB 3.4MB/s eta 0:00:01\r\u001b[K     |█████████████████               | 40kB 3.8MB/s eta 0:00:01\r\u001b[K     |█████████████████████▏          | 51kB 3.1MB/s eta 0:00:01\r\u001b[K     |█████████████████████████▍      | 61kB 3.6MB/s eta 0:00:01\r\u001b[K     |█████████████████████████████▋  | 71kB 3.8MB/s eta 0:00:01\r\u001b[K     |████████████████████████████████| 81kB 2.7MB/s \n",
            "\u001b[?25hBuilding wheels for collected packages: PyPDF2\n",
            "  Building wheel for PyPDF2 (setup.py) ... \u001b[?25l\u001b[?25hdone\n",
            "  Created wheel for PyPDF2: filename=PyPDF2-1.26.0-cp36-none-any.whl size=61086 sha256=e246b6e8ed6a30a45fe7c702783bc37d1d920339eba7fd44f28f2a3046e283ce\n",
            "  Stored in directory: /root/.cache/pip/wheels/53/84/19/35bc977c8bf5f0c23a8a011aa958acd4da4bbd7a229315c1b7\n",
            "Successfully built PyPDF2\n",
            "Installing collected packages: PyPDF2\n",
            "Successfully installed PyPDF2-1.26.0\n"
          ],
          "name": "stdout"
        }
      ]
    },
    {
      "cell_type": "code",
      "metadata": {
        "id": "MQUie0ulYcfM",
        "colab_type": "code",
        "colab": {
          "base_uri": "https://localhost:8080/",
          "height": 122
        },
        "outputId": "7a2bae75-23b3-4927-db6b-87458d9be12a"
      },
      "source": [
        "import PyPDF2\n",
        "import nltk\n",
        "nltk.download('stopwords')\n",
        "import operator\n",
        "from nltk.corpus import stopwords\n",
        "stop_words = stopwords.words('english')\n",
        "import string\n",
        "nltk.download('punkt')\n",
        "from nltk.tokenize import word_tokenize\n",
        "import re\n",
        "import os\n",
        "nltk.download('punkt')\n",
        "import collections\n",
        "from sklearn.metrics.pairwise import cosine_similarity\n"
      ],
      "execution_count": 7,
      "outputs": [
        {
          "output_type": "stream",
          "text": [
            "[nltk_data] Downloading package stopwords to /root/nltk_data...\n",
            "[nltk_data]   Unzipping corpora/stopwords.zip.\n",
            "[nltk_data] Downloading package punkt to /root/nltk_data...\n",
            "[nltk_data]   Unzipping tokenizers/punkt.zip.\n",
            "[nltk_data] Downloading package punkt to /root/nltk_data...\n",
            "[nltk_data]   Package punkt is already up-to-date!\n"
          ],
          "name": "stdout"
        }
      ]
    },
    {
      "cell_type": "code",
      "metadata": {
        "id": "Jh_8AJSMYFqT",
        "colab_type": "code",
        "colab": {}
      },
      "source": [
        "data ={}"
      ],
      "execution_count": 66,
      "outputs": []
    },
    {
      "cell_type": "code",
      "metadata": {
        "id": "xKVpHnPUGSpR",
        "colab_type": "code",
        "colab": {}
      },
      "source": [
        "entries_1 =[]"
      ],
      "execution_count": 67,
      "outputs": []
    },
    {
      "cell_type": "code",
      "metadata": {
        "id": "_TKDHmhd-XdM",
        "colab_type": "code",
        "colab": {}
      },
      "source": [
        "entries = os.listdir('/content/drive/My Drive/PDF files ')"
      ],
      "execution_count": 68,
      "outputs": []
    },
    {
      "cell_type": "code",
      "metadata": {
        "id": "R5qwnjoxrHV8",
        "colab_type": "code",
        "colab": {
          "base_uri": "https://localhost:8080/",
          "height": 125
        },
        "outputId": "84529616-be3c-48fa-cb79-edc241dbefa4"
      },
      "source": [
        "from google.colab import drive\n",
        "drive.mount('/content/drive')"
      ],
      "execution_count": 11,
      "outputs": [
        {
          "output_type": "stream",
          "text": [
            "Go to this URL in a browser: https://accounts.google.com/o/oauth2/auth?client_id=947318989803-6bn6qk8qdgf4n4g3pfee6491hc0brc4i.apps.googleusercontent.com&redirect_uri=urn%3aietf%3awg%3aoauth%3a2.0%3aoob&response_type=code&scope=email%20https%3a%2f%2fwww.googleapis.com%2fauth%2fdocs.test%20https%3a%2f%2fwww.googleapis.com%2fauth%2fdrive%20https%3a%2f%2fwww.googleapis.com%2fauth%2fdrive.photos.readonly%20https%3a%2f%2fwww.googleapis.com%2fauth%2fpeopleapi.readonly\n",
            "\n",
            "Enter your authorization code:\n",
            "··········\n",
            "Mounted at /content/drive\n"
          ],
          "name": "stdout"
        }
      ]
    },
    {
      "cell_type": "code",
      "metadata": {
        "id": "mP63Z-jaYvi_",
        "colab_type": "code",
        "colab": {}
      },
      "source": [
        "for f in range(len(entries)):\n",
        "  entries_1.append(\"/content/drive/My Drive/PDF files /\"+entries[f])"
      ],
      "execution_count": 69,
      "outputs": []
    },
    {
      "cell_type": "code",
      "metadata": {
        "id": "2q24R50-CkKR",
        "colab_type": "code",
        "colab": {}
      },
      "source": [
        "doc_data = {}\n",
        "x =0"
      ],
      "execution_count": 70,
      "outputs": []
    },
    {
      "cell_type": "code",
      "metadata": {
        "id": "Rsg26QJDzcGs",
        "colab_type": "code",
        "colab": {}
      },
      "source": [
        "from nltk.stem import PorterStemmer \n",
        "alpha = list(string.ascii_lowercase)\n",
        "ps = PorterStemmer() "
      ],
      "execution_count": 71,
      "outputs": []
    },
    {
      "cell_type": "code",
      "metadata": {
        "id": "0hmUj8fOAFHG",
        "colab_type": "code",
        "colab": {
          "base_uri": "https://localhost:8080/",
          "height": 87
        },
        "outputId": "a24a9679-5606-4339-d9a2-84f373ada70f"
      },
      "source": [
        "for f in entries_1:\n",
        "  mypdf = open(f, mode='rb')\n",
        "  pdf_document = PyPDF2.PdfFileReader(mypdf)\n",
        "  first_page = pdf_document.getPage(0)\n",
        "  page = first_page.extractText()\n",
        "  tokens = word_tokenize(page)\n",
        "  tokens = [w.lower() for w in tokens]\n",
        "  table = str.maketrans('', '', string.punctuation)\n",
        "  stripped = [w.translate(table) for w in tokens]\n",
        "  words = [word for word in stripped if word.isalpha()]\n",
        "  words = [w for w in words if not w in alpha]\n",
        "  stop_words = set(stopwords.words('english'))\n",
        "  words = [w for w in words if not w in stop_words]\n",
        "  words = [w for w in words if len(w)>2]\n",
        "  words = [ps.stem(w) for w in words]  \n",
        "  ans = \" \".join(words)\n",
        "  doc_data[entries[x]] = ans\n",
        "  x = x+1\n",
        "  if x%50 == 0:\n",
        "    print(x)"
      ],
      "execution_count": 72,
      "outputs": [
        {
          "output_type": "stream",
          "text": [
            "50\n",
            "100\n",
            "150\n",
            "200\n"
          ],
          "name": "stdout"
        }
      ]
    },
    {
      "cell_type": "code",
      "metadata": {
        "id": "MdCeQYMeB0eo",
        "colab_type": "code",
        "colab": {}
      },
      "source": [
        "del doc_data['Natural Language Processing with TensorFlow ( PDFDrive.com )-91.pdf'] \n",
        "del doc_data['Natural Language Processing with TensorFlow ( PDFDrive.com )-51.pdf'] \n",
        "del doc_data['Natural Language Processing with TensorFlow ( PDFDrive.com )-253.pdf'] "
      ],
      "execution_count": 73,
      "outputs": []
    },
    {
      "cell_type": "code",
      "metadata": {
        "id": "fAIoB5CPKqOm",
        "colab_type": "code",
        "colab": {}
      },
      "source": [
        "train_data =[]\n",
        "for m,n in doc_data.items():\n",
        "  file_string = nltk.word_tokenize(n)\n",
        "  train_data.extend(file_string)\n",
        "  #print(m)"
      ],
      "execution_count": 74,
      "outputs": []
    },
    {
      "cell_type": "code",
      "metadata": {
        "id": "NdJ_n0ucoEEW",
        "colab_type": "code",
        "colab": {
          "base_uri": "https://localhost:8080/",
          "height": 1000
        },
        "outputId": "2ada6553-cd90-4b45-8fc3-781f50efbebb"
      },
      "source": [
        "train_data1 =[]\n",
        "name_list = {}\n",
        "c = 0\n",
        "for m,n in doc_data.items():\n",
        "  file_string = nltk.word_tokenize(n)\n",
        "  train_data1.append(file_string)\n",
        "  name_list[m] = c\n",
        "  c = c+1\n",
        "  #print(m,\" \",c)"
      ],
      "execution_count": 106,
      "outputs": [
        {
          "output_type": "stream",
          "text": [
            "Natural Language Processing with TensorFlow ( PDFDrive.com )-22.pdf   1\n",
            "Natural Language Processing with TensorFlow ( PDFDrive.com )-23.pdf   2\n",
            "Natural Language Processing with TensorFlow ( PDFDrive.com )-66.pdf   3\n",
            "Natural Language Processing with TensorFlow ( PDFDrive.com )-64.pdf   4\n",
            "Natural Language Processing with TensorFlow ( PDFDrive.com )-31.pdf   5\n",
            "Natural Language Processing with TensorFlow ( PDFDrive.com )-33.pdf   6\n",
            "Natural Language Processing with TensorFlow ( PDFDrive.com )-28.pdf   7\n",
            "Natural Language Processing with TensorFlow ( PDFDrive.com )-36.pdf   8\n",
            "Natural Language Processing with TensorFlow ( PDFDrive.com )-50.pdf   9\n",
            "Natural Language Processing with TensorFlow ( PDFDrive.com )-35.pdf   10\n",
            "Natural Language Processing with TensorFlow ( PDFDrive.com )-61.pdf   11\n",
            "Natural Language Processing with TensorFlow ( PDFDrive.com )-42.pdf   12\n",
            "Natural Language Processing with TensorFlow ( PDFDrive.com )-43.pdf   13\n",
            "Natural Language Processing with TensorFlow ( PDFDrive.com )-44.pdf   14\n",
            "Natural Language Processing with TensorFlow ( PDFDrive.com )-62.pdf   15\n",
            "Natural Language Processing with TensorFlow ( PDFDrive.com )-45.pdf   16\n",
            "Natural Language Processing with TensorFlow ( PDFDrive.com )-49.pdf   17\n",
            "Natural Language Processing with TensorFlow ( PDFDrive.com )-29.pdf   18\n",
            "Natural Language Processing with TensorFlow ( PDFDrive.com )-46.pdf   19\n",
            "Natural Language Processing with TensorFlow ( PDFDrive.com )-30.pdf   20\n",
            "Natural Language Processing with TensorFlow ( PDFDrive.com )-63.pdf   21\n",
            "Natural Language Processing with TensorFlow ( PDFDrive.com )-47.pdf   22\n",
            "Natural Language Processing with TensorFlow ( PDFDrive.com )-57.pdf   23\n",
            "Natural Language Processing with TensorFlow ( PDFDrive.com )-56.pdf   24\n",
            "Natural Language Processing with TensorFlow ( PDFDrive.com )-59.pdf   25\n",
            "Natural Language Processing with TensorFlow ( PDFDrive.com )-32.pdf   26\n",
            "Natural Language Processing with TensorFlow ( PDFDrive.com )-40.pdf   27\n",
            "Natural Language Processing with TensorFlow ( PDFDrive.com )-27.pdf   28\n",
            "Natural Language Processing with TensorFlow ( PDFDrive.com )-58.pdf   29\n",
            "Natural Language Processing with TensorFlow ( PDFDrive.com )-54.pdf   30\n",
            "Natural Language Processing with TensorFlow ( PDFDrive.com )-37.pdf   31\n",
            "Natural Language Processing with TensorFlow ( PDFDrive.com )-34.pdf   32\n",
            "Natural Language Processing with TensorFlow ( PDFDrive.com )-38.pdf   33\n",
            "Natural Language Processing with TensorFlow ( PDFDrive.com )-48.pdf   34\n",
            "Natural Language Processing with TensorFlow ( PDFDrive.com )-65.pdf   35\n",
            "Natural Language Processing with TensorFlow ( PDFDrive.com )-55.pdf   36\n",
            "Natural Language Processing with TensorFlow ( PDFDrive.com )-52.pdf   37\n",
            "Natural Language Processing with TensorFlow ( PDFDrive.com )-41.pdf   38\n",
            "Natural Language Processing with TensorFlow ( PDFDrive.com )-60.pdf   39\n",
            "Natural Language Processing with TensorFlow ( PDFDrive.com )-53.pdf   40\n",
            "Natural Language Processing with TensorFlow ( PDFDrive.com )-39.pdf   41\n",
            "Natural Language Processing with TensorFlow ( PDFDrive.com )-106.pdf   42\n",
            "Natural Language Processing with TensorFlow ( PDFDrive.com )-100.pdf   43\n",
            "Natural Language Processing with TensorFlow ( PDFDrive.com )-67.pdf   44\n",
            "Natural Language Processing with TensorFlow ( PDFDrive.com )-112.pdf   45\n",
            "Natural Language Processing with TensorFlow ( PDFDrive.com )-70.pdf   46\n",
            "Natural Language Processing with TensorFlow ( PDFDrive.com )-108.pdf   47\n",
            "Natural Language Processing with TensorFlow ( PDFDrive.com )-103.pdf   48\n",
            "Natural Language Processing with TensorFlow ( PDFDrive.com )-93.pdf   49\n",
            "Natural Language Processing with TensorFlow ( PDFDrive.com )-109.pdf   50\n",
            "Natural Language Processing with TensorFlow ( PDFDrive.com )-84.pdf   51\n",
            "Natural Language Processing with TensorFlow ( PDFDrive.com )-110.pdf   52\n",
            "Natural Language Processing with TensorFlow ( PDFDrive.com )-104.pdf   53\n",
            "Natural Language Processing with TensorFlow ( PDFDrive.com )-102.pdf   54\n",
            "Natural Language Processing with TensorFlow ( PDFDrive.com )-71.pdf   55\n",
            "Natural Language Processing with TensorFlow ( PDFDrive.com )-97.pdf   56\n",
            "Natural Language Processing with TensorFlow ( PDFDrive.com )-87.pdf   57\n",
            "Natural Language Processing with TensorFlow ( PDFDrive.com )-101.pdf   58\n",
            "Natural Language Processing with TensorFlow ( PDFDrive.com )-111.pdf   59\n",
            "Natural Language Processing with TensorFlow ( PDFDrive.com )-74.pdf   60\n",
            "Natural Language Processing with TensorFlow ( PDFDrive.com )-72.pdf   61\n",
            "Natural Language Processing with TensorFlow ( PDFDrive.com )-95.pdf   62\n",
            "Natural Language Processing with TensorFlow ( PDFDrive.com )-75.pdf   63\n",
            "Natural Language Processing with TensorFlow ( PDFDrive.com )-99.pdf   64\n",
            "Natural Language Processing with TensorFlow ( PDFDrive.com )-78.pdf   65\n",
            "Natural Language Processing with TensorFlow ( PDFDrive.com )-68.pdf   66\n",
            "Natural Language Processing with TensorFlow ( PDFDrive.com )-88.pdf   67\n",
            "Natural Language Processing with TensorFlow ( PDFDrive.com )-105.pdf   68\n",
            "Natural Language Processing with TensorFlow ( PDFDrive.com )-79.pdf   69\n",
            "Natural Language Processing with TensorFlow ( PDFDrive.com )-83.pdf   70\n",
            "Natural Language Processing with TensorFlow ( PDFDrive.com )-85.pdf   71\n",
            "Natural Language Processing with TensorFlow ( PDFDrive.com )-69.pdf   72\n",
            "Natural Language Processing with TensorFlow ( PDFDrive.com )-86.pdf   73\n",
            "Natural Language Processing with TensorFlow ( PDFDrive.com )-96.pdf   74\n",
            "Natural Language Processing with TensorFlow ( PDFDrive.com )-81.pdf   75\n",
            "Natural Language Processing with TensorFlow ( PDFDrive.com )-94.pdf   76\n",
            "Natural Language Processing with TensorFlow ( PDFDrive.com )-73.pdf   77\n",
            "Natural Language Processing with TensorFlow ( PDFDrive.com )-92.pdf   78\n",
            "Natural Language Processing with TensorFlow ( PDFDrive.com )-82.pdf   79\n",
            "Natural Language Processing with TensorFlow ( PDFDrive.com )-90.pdf   80\n",
            "Natural Language Processing with TensorFlow ( PDFDrive.com )-89.pdf   81\n",
            "Natural Language Processing with TensorFlow ( PDFDrive.com )-76.pdf   82\n",
            "Natural Language Processing with TensorFlow ( PDFDrive.com )-77.pdf   83\n",
            "Natural Language Processing with TensorFlow ( PDFDrive.com )-80.pdf   84\n",
            "Natural Language Processing with TensorFlow ( PDFDrive.com )-98.pdf   85\n",
            "Natural Language Processing with TensorFlow ( PDFDrive.com )-107.pdf   86\n",
            "Natural Language Processing with TensorFlow ( PDFDrive.com )-119.pdf   87\n",
            "Natural Language Processing with TensorFlow ( PDFDrive.com )-117.pdf   88\n",
            "Natural Language Processing with TensorFlow ( PDFDrive.com )-120.pdf   89\n",
            "Natural Language Processing with TensorFlow ( PDFDrive.com )-139.pdf   90\n",
            "Natural Language Processing with TensorFlow ( PDFDrive.com )-147.pdf   91\n",
            "Natural Language Processing with TensorFlow ( PDFDrive.com )-146.pdf   92\n",
            "Natural Language Processing with TensorFlow ( PDFDrive.com )-136.pdf   93\n",
            "Natural Language Processing with TensorFlow ( PDFDrive.com )-115.pdf   94\n",
            "Natural Language Processing with TensorFlow ( PDFDrive.com )-153.pdf   95\n",
            "Natural Language Processing with TensorFlow ( PDFDrive.com )-149.pdf   96\n",
            "Natural Language Processing with TensorFlow ( PDFDrive.com )-131.pdf   97\n",
            "Natural Language Processing with TensorFlow ( PDFDrive.com )-135.pdf   98\n",
            "Natural Language Processing with TensorFlow ( PDFDrive.com )-155.pdf   99\n",
            "Natural Language Processing with TensorFlow ( PDFDrive.com )-148.pdf   100\n",
            "Natural Language Processing with TensorFlow ( PDFDrive.com )-157.pdf   101\n",
            "Natural Language Processing with TensorFlow ( PDFDrive.com )-156.pdf   102\n",
            "Natural Language Processing with TensorFlow ( PDFDrive.com )-132.pdf   103\n",
            "Natural Language Processing with TensorFlow ( PDFDrive.com )-116.pdf   104\n",
            "Natural Language Processing with TensorFlow ( PDFDrive.com )-151.pdf   105\n",
            "Natural Language Processing with TensorFlow ( PDFDrive.com )-137.pdf   106\n",
            "Natural Language Processing with TensorFlow ( PDFDrive.com )-143.pdf   107\n",
            "Natural Language Processing with TensorFlow ( PDFDrive.com )-118.pdf   108\n",
            "Natural Language Processing with TensorFlow ( PDFDrive.com )-145.pdf   109\n",
            "Natural Language Processing with TensorFlow ( PDFDrive.com )-138.pdf   110\n",
            "Natural Language Processing with TensorFlow ( PDFDrive.com )-141.pdf   111\n",
            "Natural Language Processing with TensorFlow ( PDFDrive.com )-140.pdf   112\n",
            "Natural Language Processing with TensorFlow ( PDFDrive.com )-142.pdf   113\n",
            "Natural Language Processing with TensorFlow ( PDFDrive.com )-113.pdf   114\n",
            "Natural Language Processing with TensorFlow ( PDFDrive.com )-159.pdf   115\n",
            "Natural Language Processing with TensorFlow ( PDFDrive.com )-160.pdf   116\n",
            "Natural Language Processing with TensorFlow ( PDFDrive.com )-144.pdf   117\n",
            "Natural Language Processing with TensorFlow ( PDFDrive.com )-150.pdf   118\n",
            "Natural Language Processing with TensorFlow ( PDFDrive.com )-134.pdf   119\n",
            "Natural Language Processing with TensorFlow ( PDFDrive.com )-152.pdf   120\n",
            "Natural Language Processing with TensorFlow ( PDFDrive.com )-121.pdf   121\n",
            "Natural Language Processing with TensorFlow ( PDFDrive.com )-114.pdf   122\n",
            "Natural Language Processing with TensorFlow ( PDFDrive.com )-154.pdf   123\n",
            "Natural Language Processing with TensorFlow ( PDFDrive.com )-158.pdf   124\n",
            "Natural Language Processing with TensorFlow ( PDFDrive.com )-133.pdf   125\n",
            "Natural Language Processing with TensorFlow ( PDFDrive.com )-241.pdf   126\n",
            "Natural Language Processing with TensorFlow ( PDFDrive.com )-243.pdf   127\n",
            "Natural Language Processing with TensorFlow ( PDFDrive.com )-244.pdf   128\n",
            "Natural Language Processing with TensorFlow ( PDFDrive.com )-225.pdf   129\n",
            "Natural Language Processing with TensorFlow ( PDFDrive.com )-238.pdf   130\n",
            "Natural Language Processing with TensorFlow ( PDFDrive.com )-232.pdf   131\n",
            "Natural Language Processing with TensorFlow ( PDFDrive.com )-223.pdf   132\n",
            "Natural Language Processing with TensorFlow ( PDFDrive.com )-252.pdf   133\n",
            "Natural Language Processing with TensorFlow ( PDFDrive.com )-249.pdf   134\n",
            "Natural Language Processing with TensorFlow ( PDFDrive.com )-246.pdf   135\n",
            "Natural Language Processing with TensorFlow ( PDFDrive.com )-230.pdf   136\n",
            "Natural Language Processing with TensorFlow ( PDFDrive.com )-227.pdf   137\n",
            "Natural Language Processing with TensorFlow ( PDFDrive.com )-231.pdf   138\n",
            "Natural Language Processing with TensorFlow ( PDFDrive.com )-239.pdf   139\n",
            "Natural Language Processing with TensorFlow ( PDFDrive.com )-228.pdf   140\n",
            "Natural Language Processing with TensorFlow ( PDFDrive.com )-233.pdf   141\n",
            "Natural Language Processing with TensorFlow ( PDFDrive.com )-242.pdf   142\n",
            "Natural Language Processing with TensorFlow ( PDFDrive.com )-248.pdf   143\n",
            "Natural Language Processing with TensorFlow ( PDFDrive.com )-224.pdf   144\n",
            "Natural Language Processing with TensorFlow ( PDFDrive.com )-222.pdf   145\n",
            "Natural Language Processing with TensorFlow ( PDFDrive.com )-247.pdf   146\n",
            "Natural Language Processing with TensorFlow ( PDFDrive.com )-234.pdf   147\n",
            "Natural Language Processing with TensorFlow ( PDFDrive.com )-245.pdf   148\n",
            "Natural Language Processing with TensorFlow ( PDFDrive.com )-236.pdf   149\n",
            "Natural Language Processing with TensorFlow ( PDFDrive.com )-251.pdf   150\n",
            "Natural Language Processing with TensorFlow ( PDFDrive.com )-254.pdf   151\n",
            "Natural Language Processing with TensorFlow ( PDFDrive.com )-226.pdf   152\n",
            "Natural Language Processing with TensorFlow ( PDFDrive.com )-256.pdf   153\n",
            "Natural Language Processing with TensorFlow ( PDFDrive.com )-255.pdf   154\n",
            "Natural Language Processing with TensorFlow ( PDFDrive.com )-240.pdf   155\n",
            "Natural Language Processing with TensorFlow ( PDFDrive.com )-235.pdf   156\n",
            "Natural Language Processing with TensorFlow ( PDFDrive.com )-221.pdf   157\n",
            "Natural Language Processing with TensorFlow ( PDFDrive.com )-237.pdf   158\n",
            "Natural Language Processing with TensorFlow ( PDFDrive.com )-250.pdf   159\n",
            "Natural Language Processing with TensorFlow ( PDFDrive.com )-229.pdf   160\n",
            "Natural Language Processing with TensorFlow ( PDFDrive.com )-270.pdf   161\n",
            "Natural Language Processing with TensorFlow ( PDFDrive.com )-279.pdf   162\n",
            "Natural Language Processing with TensorFlow ( PDFDrive.com )-278.pdf   163\n",
            "Natural Language Processing with TensorFlow ( PDFDrive.com )-261.pdf   164\n",
            "Natural Language Processing with TensorFlow ( PDFDrive.com )-273.pdf   165\n",
            "Natural Language Processing with TensorFlow ( PDFDrive.com )-262.pdf   166\n",
            "Natural Language Processing with TensorFlow ( PDFDrive.com )-276.pdf   167\n",
            "Natural Language Processing with TensorFlow ( PDFDrive.com )-266.pdf   168\n",
            "Natural Language Processing with TensorFlow ( PDFDrive.com )-260.pdf   169\n",
            "Natural Language Processing with TensorFlow ( PDFDrive.com )-258.pdf   170\n",
            "Natural Language Processing with TensorFlow ( PDFDrive.com )-290.pdf   171\n",
            "Natural Language Processing with TensorFlow ( PDFDrive.com )-280.pdf   172\n",
            "Natural Language Processing with TensorFlow ( PDFDrive.com )-263.pdf   173\n",
            "Natural Language Processing with TensorFlow ( PDFDrive.com )-272.pdf   174\n",
            "Natural Language Processing with TensorFlow ( PDFDrive.com )-257.pdf   175\n",
            "Natural Language Processing with TensorFlow ( PDFDrive.com )-291.pdf   176\n",
            "Natural Language Processing with TensorFlow ( PDFDrive.com )-277.pdf   177\n",
            "Natural Language Processing with TensorFlow ( PDFDrive.com )-283.pdf   178\n",
            "Natural Language Processing with TensorFlow ( PDFDrive.com )-287.pdf   179\n",
            "Natural Language Processing with TensorFlow ( PDFDrive.com )-271.pdf   180\n",
            "Natural Language Processing with TensorFlow ( PDFDrive.com )-281.pdf   181\n",
            "Natural Language Processing with TensorFlow ( PDFDrive.com )-282.pdf   182\n",
            "Natural Language Processing with TensorFlow ( PDFDrive.com )-259.pdf   183\n",
            "Natural Language Processing with TensorFlow ( PDFDrive.com )-274.pdf   184\n",
            "Natural Language Processing with TensorFlow ( PDFDrive.com )-284.pdf   185\n",
            "Natural Language Processing with TensorFlow ( PDFDrive.com )-286.pdf   186\n",
            "Natural Language Processing with TensorFlow ( PDFDrive.com )-288.pdf   187\n",
            "Natural Language Processing with TensorFlow ( PDFDrive.com )-289.pdf   188\n",
            "Natural Language Processing with TensorFlow ( PDFDrive.com )-268.pdf   189\n",
            "Natural Language Processing with TensorFlow ( PDFDrive.com )-265.pdf   190\n",
            "Natural Language Processing with TensorFlow ( PDFDrive.com )-264.pdf   191\n",
            "Natural Language Processing with TensorFlow ( PDFDrive.com )-285.pdf   192\n",
            "Natural Language Processing with TensorFlow ( PDFDrive.com )-275.pdf   193\n",
            "Natural Language Processing with TensorFlow ( PDFDrive.com )-269.pdf   194\n",
            "Natural Language Processing with TensorFlow ( PDFDrive.com )-267.pdf   195\n",
            "Natural Language Processing with TensorFlow ( PDFDrive.com )-306.pdf   196\n",
            "Natural Language Processing with TensorFlow ( PDFDrive.com )-315.pdf   197\n",
            "Natural Language Processing with TensorFlow ( PDFDrive.com )-305.pdf   198\n",
            "Natural Language Processing with TensorFlow ( PDFDrive.com )-317.pdf   199\n",
            "Natural Language Processing with TensorFlow ( PDFDrive.com )-309.pdf   200\n",
            "Natural Language Processing with TensorFlow ( PDFDrive.com )-320.pdf   201\n",
            "Natural Language Processing with TensorFlow ( PDFDrive.com )-318.pdf   202\n",
            "Natural Language Processing with TensorFlow ( PDFDrive.com )-294.pdf   203\n",
            "Natural Language Processing with TensorFlow ( PDFDrive.com )-292.pdf   204\n",
            "Natural Language Processing with TensorFlow ( PDFDrive.com )-296.pdf   205\n",
            "Natural Language Processing with TensorFlow ( PDFDrive.com )-312.pdf   206\n",
            "Natural Language Processing with TensorFlow ( PDFDrive.com )-300.pdf   207\n",
            "Natural Language Processing with TensorFlow ( PDFDrive.com )-311.pdf   208\n",
            "Natural Language Processing with TensorFlow ( PDFDrive.com )-304.pdf   209\n",
            "Natural Language Processing with TensorFlow ( PDFDrive.com )-303.pdf   210\n",
            "Natural Language Processing with TensorFlow ( PDFDrive.com )-298.pdf   211\n",
            "Natural Language Processing with TensorFlow ( PDFDrive.com )-295.pdf   212\n",
            "Natural Language Processing with TensorFlow ( PDFDrive.com )-310.pdf   213\n",
            "Natural Language Processing with TensorFlow ( PDFDrive.com )-308.pdf   214\n",
            "Natural Language Processing with TensorFlow ( PDFDrive.com )-316.pdf   215\n",
            "Natural Language Processing with TensorFlow ( PDFDrive.com )-319.pdf   216\n",
            "Natural Language Processing with TensorFlow ( PDFDrive.com )-297.pdf   217\n",
            "Natural Language Processing with TensorFlow ( PDFDrive.com )-307.pdf   218\n",
            "Natural Language Processing with TensorFlow ( PDFDrive.com )-299.pdf   219\n",
            "Natural Language Processing with TensorFlow ( PDFDrive.com )-302.pdf   220\n",
            "Natural Language Processing with TensorFlow ( PDFDrive.com )-293.pdf   221\n",
            "Natural Language Processing with TensorFlow ( PDFDrive.com )-301.pdf   222\n",
            "Natural Language Processing with TensorFlow ( PDFDrive.com )-314.pdf   223\n",
            "Natural Language Processing with TensorFlow ( PDFDrive.com )-313.pdf   224\n"
          ],
          "name": "stdout"
        }
      ]
    },
    {
      "cell_type": "code",
      "metadata": {
        "id": "5x3dL739jSvC",
        "colab_type": "code",
        "colab": {
          "base_uri": "https://localhost:8080/",
          "height": 125
        },
        "outputId": "e4819c89-d21b-447f-ac98-65ff0c2b3827"
      },
      "source": [
        "pip install rank_bm25"
      ],
      "execution_count": 26,
      "outputs": [
        {
          "output_type": "stream",
          "text": [
            "Collecting rank_bm25\n",
            "  Downloading https://files.pythonhosted.org/packages/16/5a/23ed3132063a0684ea66fb410260c71c4ffda3b99f8f1c021d1e245401b5/rank_bm25-0.2.1-py3-none-any.whl\n",
            "Requirement already satisfied: numpy in /usr/local/lib/python3.6/dist-packages (from rank_bm25) (1.18.5)\n",
            "Installing collected packages: rank-bm25\n",
            "Successfully installed rank-bm25-0.2.1\n"
          ],
          "name": "stdout"
        }
      ]
    },
    {
      "cell_type": "code",
      "metadata": {
        "id": "x_sBwQUMHBPb",
        "colab_type": "code",
        "colab": {}
      },
      "source": [
        "vocabulary_size = 2000\n",
        "\n",
        "def build_dataset(words):\n",
        "  # Allocate a special token for rare words\n",
        "  count = [['UNK', -1]]\n",
        "\n",
        "  # Gets only the vocabulary_size most common words as the vocabulary\n",
        "  # All the other words will be replaced with UNK token\n",
        "  count.extend(collections.Counter(words).most_common(vocabulary_size - 1))\n",
        "\n",
        "\n",
        "  # Create an ID for each word by giving the current length of the dictionary\n",
        "  # And adding that item to the dictionary\n",
        "  dictionary = dict()\n",
        "  for word, _ in count:\n",
        "    dictionary[word] = len(dictionary)\n",
        "    \n",
        "  data = list()\n",
        "  unk_count = 0\n",
        "    \n",
        "  # Traverse through all the text we have and produce a list\n",
        "  # where each element corresponds to the ID of the word found at that index\n",
        "  for word in words:\n",
        "    # If word is in the dictionary use the word ID,\n",
        "    # else use the ID of the special token \"UNK\"\n",
        "    if word in dictionary:\n",
        "      index = dictionary[word]\n",
        "    else:\n",
        "      index = 0  # dictionary['UNK']\n",
        "      unk_count = unk_count + 1\n",
        "    data.append(index)\n",
        "  \n",
        "  # update the count variable with the number of UNK occurences\n",
        "  count[0][1] = unk_count\n",
        "    \n",
        "  reverse_dictionary = dict(zip(dictionary.values(), dictionary.keys())) \n",
        "  # Make sure the dictionary is of size of the vocabulary\n",
        "  assert len(dictionary) == vocabulary_size\n",
        "\n",
        "  return data, count, dictionary, reverse_dictionary\n",
        "\n",
        "def build_dataset_with_existing_dictionary(words, dictionary):\n",
        "    '''\n",
        "    Here we use this function to convert word strings to IDs\n",
        "    with a given dictionary\n",
        "    '''\n",
        "    data = list()\n",
        "    for word in words:\n",
        "        if word in dictionary:\n",
        "          index = dictionary[word]\n",
        "        else:\n",
        "          index = 0  # dictionary['UNK']\n",
        "        data.append(index)\n",
        "    return data\n",
        "\n",
        "# Processining training data\n",
        "data, count, dictionary, reverse_dictionary = build_dataset(train_data)"
      ],
      "execution_count": 76,
      "outputs": []
    },
    {
      "cell_type": "code",
      "metadata": {
        "id": "ryvgWFgzIv6F",
        "colab_type": "code",
        "colab": {
          "base_uri": "https://localhost:8080/",
          "height": 52
        },
        "outputId": "32e4ec08-0ee3-4e1a-f325-b0d160d6aa97"
      },
      "source": [
        "print('Most common words (+UNK)', count[:5])\n",
        "print('Sample data', data[:10])"
      ],
      "execution_count": 77,
      "outputs": [
        {
          "output_type": "stream",
          "text": [
            "Most common words (+UNK) [['UNK', 1769], ('word', 546), ('use', 379), ('lstm', 282), ('exampl', 253)]\n",
            "Sample data [67, 218, 3, 16, 60, 21, 418, 1392, 7, 16]\n"
          ],
          "name": "stdout"
        }
      ]
    },
    {
      "cell_type": "code",
      "metadata": {
        "id": "LOM5A9WWIwIv",
        "colab_type": "code",
        "colab": {}
      },
      "source": [
        "wordsunique = set(train_data)\n",
        "wordsunique = list(wordsunique)"
      ],
      "execution_count": 78,
      "outputs": []
    },
    {
      "cell_type": "code",
      "metadata": {
        "id": "1lIR8c2SsmrD",
        "colab_type": "code",
        "colab": {}
      },
      "source": [
        "worddic={}"
      ],
      "execution_count": 79,
      "outputs": []
    },
    {
      "cell_type": "code",
      "metadata": {
        "id": "FrS-OFTuqgEz",
        "colab_type": "code",
        "colab": {}
      },
      "source": [
        "for doc_name,doc_content in doc_data.items():\n",
        "  for word_1 in wordsunique:\n",
        "    if word_1 in doc_content:\n",
        "      index = doc_name\n",
        "   #   position = list(np.where(np.array(doc_data[index]) == word_1))\n",
        "    #  idfs = tfidf(word_1,doc_content,plottest)\n",
        "      try:\n",
        "        worddic[word_1].append([index])\n",
        "      except:\n",
        "        worddic[word_1] = []\n",
        "        worddic[word_1].append([index])"
      ],
      "execution_count": 80,
      "outputs": []
    },
    {
      "cell_type": "code",
      "metadata": {
        "id": "XkvZDUH78aih",
        "colab_type": "code",
        "colab": {}
      },
      "source": [
        "import numpy as np\n"
      ],
      "execution_count": 81,
      "outputs": []
    },
    {
      "cell_type": "markdown",
      "metadata": {
        "id": "FmERcHYXcyh2",
        "colab_type": "text"
      },
      "source": [
        "You can directly use above trained word and document embedding "
      ]
    },
    {
      "cell_type": "code",
      "metadata": {
        "id": "MFBow1AkuGl8",
        "colab_type": "code",
        "colab": {}
      },
      "source": [
        "def build_dataset_with_existing_dictionary(words, dictionary):\n",
        "    '''\n",
        "    Here we use this function to convert word strings to IDs\n",
        "    with a given dictionary\n",
        "    '''\n",
        "    words1 = words.split()\n",
        "    data = list()\n",
        "    for word in words1:\n",
        "        if word in dictionary:\n",
        "          index = dictionary[word]\n",
        "        else:\n",
        "          index = 0  # dictionary['UNK']\n",
        "        data.append(index)\n",
        "    return data"
      ],
      "execution_count": 82,
      "outputs": []
    },
    {
      "cell_type": "code",
      "metadata": {
        "id": "H6FfVUW_swA-",
        "colab_type": "code",
        "colab": {}
      },
      "source": [
        "test_data = {}\n",
        "for k,v in doc_data.items():\n",
        "  #  print('Building Test Dataset for ',k,' topic')\n",
        "    test_data[k] = build_dataset_with_existing_dictionary(doc_data[k],dictionary)"
      ],
      "execution_count": 83,
      "outputs": []
    },
    {
      "cell_type": "code",
      "metadata": {
        "id": "xT8Giy9noA_0",
        "colab_type": "code",
        "colab": {}
      },
      "source": [
        ""
      ],
      "execution_count": null,
      "outputs": []
    },
    {
      "cell_type": "code",
      "metadata": {
        "id": "2bpKs90C3Bh1",
        "colab_type": "code",
        "colab": {}
      },
      "source": [
        "import numpy as np\n"
      ],
      "execution_count": 84,
      "outputs": []
    },
    {
      "cell_type": "code",
      "metadata": {
        "id": "7phuP31yuzSz",
        "colab_type": "code",
        "colab": {
          "base_uri": "https://localhost:8080/",
          "height": 178
        },
        "outputId": "a9b2f784-dc09-471b-d95b-a9a7cf777de4"
      },
      "source": [
        "data_index = 0\n",
        "\n",
        "def generate_batch_cbow(batch_size, window_size):\n",
        "    # window_size is the amount of words we're looking at from each side of a given word\n",
        "    # creates a single batch\n",
        "    \n",
        "    # data_index is updated by 1 everytime we read a set of data point\n",
        "    global data_index\n",
        "\n",
        "    span = 2 * window_size + 1 # [ skip_window target skip_window ]\n",
        "\n",
        "    # two numpy arras to hold target words (batch)\n",
        "    # and context words (labels)\n",
        "    # Note that batch has span-1=2*window_size columns\n",
        "    batch = np.ndarray(shape=(batch_size,span-1), dtype=np.int32)\n",
        "    labels = np.ndarray(shape=(batch_size, 1), dtype=np.int32)\n",
        "    \n",
        "    # The buffer holds the data contained within the span\n",
        "    buffer = collections.deque(maxlen=span)\n",
        "\n",
        "    # Fill the buffer and update the data_index\n",
        "    for _ in range(span):\n",
        "        buffer.append(data[data_index])\n",
        "        data_index = (data_index + 1) % len(data)\n",
        "\n",
        "    # Here we do the batch reading\n",
        "    # We iterate through each batch index\n",
        "    # For each batch index, we iterate through span elements\n",
        "    # to fill in the columns of batch array\n",
        "    for i in range(batch_size):\n",
        "        target = window_size  # target label at the center of the buffer\n",
        "        target_to_avoid = [ window_size ] # we only need to know the words around a given word, not the word itself\n",
        "\n",
        "        # add selected target to avoid_list for next time\n",
        "        col_idx = 0\n",
        "        for j in range(span):\n",
        "            # ignore the target word when creating the batch\n",
        "            if j==span//2:\n",
        "                continue\n",
        "            batch[i,col_idx] = buffer[j] \n",
        "            col_idx += 1\n",
        "        labels[i, 0] = buffer[target]\n",
        "\n",
        "        # Everytime we read a data point,\n",
        "        # we need to move the span by 1\n",
        "        # to create a fresh new span\n",
        "        buffer.append(data[data_index])\n",
        "        data_index = (data_index + 1) % len(data)\n",
        "\n",
        "    return batch, labels\n",
        "\n",
        "for window_size in [1,2]:\n",
        "    data_index = 0\n",
        "    batch, labels = generate_batch_cbow(batch_size=8, window_size=window_size)\n",
        "    print('\\nwith window_size = %d:' % (window_size))\n",
        "    print('    batch:', [[reverse_dictionary[bii] for bii in bi] for bi in batch])\n",
        "    print('    labels:', [reverse_dictionary[li] for li in labels.reshape(8)])\n"
      ],
      "execution_count": 85,
      "outputs": [
        {
          "output_type": "stream",
          "text": [
            "\n",
            "with window_size = 1:\n",
            "    batch: [['chapter', 'lstm'], ['applic', 'imag'], ['lstm', 'caption'], ['imag', 'gener'], ['caption', 'move'], ['gener', 'multimod'], ['move', 'data'], ['multimod', 'imag']]\n",
            "    labels: ['applic', 'lstm', 'imag', 'caption', 'gener', 'move', 'multimod', 'data']\n",
            "\n",
            "with window_size = 2:\n",
            "    batch: [['chapter', 'applic', 'imag', 'caption'], ['applic', 'lstm', 'caption', 'gener'], ['lstm', 'imag', 'gener', 'move'], ['imag', 'caption', 'move', 'multimod'], ['caption', 'gener', 'multimod', 'data'], ['gener', 'move', 'data', 'imag'], ['move', 'multimod', 'imag', 'text'], ['multimod', 'data', 'text', 'cope']]\n",
            "    labels: ['lstm', 'imag', 'caption', 'gener', 'move', 'multimod', 'data', 'imag']\n"
          ],
          "name": "stdout"
        }
      ]
    },
    {
      "cell_type": "code",
      "metadata": {
        "id": "qHpMBMZ02GDs",
        "colab_type": "code",
        "colab": {
          "base_uri": "https://localhost:8080/",
          "height": 90
        },
        "outputId": "e63cddad-d0cf-4ca0-f79f-13a5553367af"
      },
      "source": [
        "test_data_index = 0\n",
        "\n",
        "def generate_test_batch(data, batch_size1):\n",
        "    '''\n",
        "    Generate a batch of data from the test data\n",
        "    This is used to compute the document embedding\n",
        "    by taking the average of all the words in a document\n",
        "    '''\n",
        "    global test_data_index\n",
        "\n",
        "    batch = np.ndarray(shape=(batch_size1,), dtype=np.int32)\n",
        "    # Get words starting from index 0 to span\n",
        "    for bi in range(batch_size1):\n",
        "        batch[bi] = data[test_data_index]\n",
        "        test_data_index = (test_data_index + 1) % len(data)\n",
        "\n",
        "    return batch\n",
        "\n",
        "test_data_index = 0\n",
        "test_batch = generate_test_batch(test_data[\"Natural Language Processing with TensorFlow ( PDFDrive.com )-248.pdf\"], 128)\n",
        "print('\\nwith window_size = %d:' % (window_size))\n",
        "print('    labels:', [reverse_dictionary[li] for li in test_batch.reshape(128)])"
      ],
      "execution_count": 86,
      "outputs": [
        {
          "output_type": "stream",
          "text": [
            "\n",
            "with window_size = 2:\n",
            "    labels: ['peephol', 'UNK', 'connect', 'allow', 'gate', 'see', 'current', 'input', 'previou', 'weight', 'lstm', 'cell', 'connect', 'shown', 'produc', 'better', 'result', 'equat', 'would', 'look', 'like', 'ihti', 'UNK', 'chtc', 'anhwx', 'fhtf', 'UNK', 'tcf', 'ohto', 'UNK', 'tho', 'UNK', 'help', 'lstm', 'perform', 'better', 'far', 'gate', 'see', 'close', 'zero', 'thu', 'gate', 'take', 'hidden', 'state', 'consider', 'calcul', 'includ', 'cell', 'state', 'directli', 'gate', 'calcul', 'equat', 'allow', 'control', 'cell', 'state', 'perform', 'well', 'even', 'situat', 'output', 'gate', 'close', 'zero', 'peephol', 'UNK', 'connect', 'allow', 'gate', 'see', 'current', 'input', 'previou', 'weight', 'lstm', 'cell', 'connect', 'shown', 'produc', 'better', 'result', 'equat', 'would', 'look', 'like', 'ihti', 'UNK', 'chtc', 'anhwx', 'fhtf', 'UNK', 'tcf', 'ohto', 'UNK', 'tho', 'UNK', 'help', 'lstm', 'perform', 'better', 'far', 'gate', 'see', 'close', 'zero', 'thu', 'gate', 'take', 'hidden', 'state', 'consider', 'calcul', 'includ', 'cell', 'state', 'directli', 'gate', 'calcul', 'equat', 'allow', 'control', 'cell', 'state', 'perform', 'well']\n"
          ],
          "name": "stdout"
        }
      ]
    },
    {
      "cell_type": "code",
      "metadata": {
        "id": "NcFrTuLyzmG_",
        "colab_type": "code",
        "colab": {}
      },
      "source": [
        "import random\n",
        "import tensorflow.compat.v1 as tf\n",
        "tf.disable_v2_behavior()"
      ],
      "execution_count": 87,
      "outputs": []
    },
    {
      "cell_type": "code",
      "metadata": {
        "id": "lSyPPzNeyo5e",
        "colab_type": "code",
        "colab": {}
      },
      "source": [
        "batch_size = 128 # Data points in a single batch\n",
        "embedding_size = 32 # Dimension of the embedding vector.\n",
        "# How many words to consider left and right.\n",
        "# Skip gram by design does not require to have all the context words in a given step\n",
        "# However, for CBOW that's a requirement, so we limit the window size\n",
        "window_size = 4\n",
        "\n",
        "# We pick a random validation set to sample nearest neighbors\n",
        "valid_size = 16 # Random set of words to evaluate similarity on.\n",
        "# We sample valid datapoints randomly from a large window without always being deterministic\n",
        "valid_window = 50\n",
        "\n",
        "# When selecting valid examples, we select some of the most frequent words as well as\n",
        "# some moderately rare words as well\n",
        "valid_examples = np.array(random.sample(range(valid_window), valid_size))\n",
        "valid_examples = np.append(valid_examples,random.sample(range(1000, 1000+valid_window), valid_size),axis=0)\n",
        "\n",
        "num_sampled = 32 # Number of negative examples to sample."
      ],
      "execution_count": 88,
      "outputs": []
    },
    {
      "cell_type": "code",
      "metadata": {
        "id": "_Utvt1cqy3j_",
        "colab_type": "code",
        "colab": {}
      },
      "source": [
        "tf.reset_default_graph()\n",
        "\n",
        "# Training input data (target word IDs). Note that it has 2*window_size columns\n",
        "train_dataset = tf.placeholder(tf.int32, shape=[batch_size,2*window_size])\n",
        "# Training input label data (context word IDs)\n",
        "train_labels = tf.placeholder(tf.int32, shape=[batch_size, 1])\n",
        "# Validation input data, we don't need a placeholder\n",
        "# as we have already defined the IDs of the words selected\n",
        "# as validation data\n",
        "valid_dataset = tf.constant(valid_examples, dtype=tf.int32)"
      ],
      "execution_count": 89,
      "outputs": []
    },
    {
      "cell_type": "code",
      "metadata": {
        "id": "__N1CNjn3Spy",
        "colab_type": "code",
        "colab": {}
      },
      "source": [
        "import math"
      ],
      "execution_count": 90,
      "outputs": []
    },
    {
      "cell_type": "code",
      "metadata": {
        "id": "gK3-DeGty3me",
        "colab_type": "code",
        "colab": {}
      },
      "source": [
        "embeddings = tf.Variable(tf.random_uniform([vocabulary_size, embedding_size], -1.0, 1.0,dtype=tf.float32))\n",
        "\n",
        "# Softmax Weights and Biases\n",
        "softmax_weights = tf.Variable(tf.truncated_normal([vocabulary_size, embedding_size],\n",
        "                 stddev=0.5 / math.sqrt(embedding_size),dtype=tf.float32))\n",
        "softmax_biases = tf.Variable(tf.random_uniform([vocabulary_size],0.0,0.01))"
      ],
      "execution_count": 91,
      "outputs": []
    },
    {
      "cell_type": "code",
      "metadata": {
        "id": "_TBOwNVhy3rW",
        "colab_type": "code",
        "colab": {
          "base_uri": "https://localhost:8080/",
          "height": 70
        },
        "outputId": "9fdb3ed1-d693-4e25-d200-520977d9989c"
      },
      "source": [
        "stacked_embedings = None\n",
        "print('Defining %d embedding lookups representing each word in the context'%(2*window_size))\n",
        "for i in range(2*window_size):\n",
        "    embedding_i = tf.nn.embedding_lookup(embeddings, train_dataset[:,i])        \n",
        "    x_size,y_size = embedding_i.get_shape().as_list()\n",
        "    if stacked_embedings is None:\n",
        "        stacked_embedings = tf.reshape(embedding_i,[x_size,y_size,1])\n",
        "    else:\n",
        "        stacked_embedings = tf.concat(axis=2,values=[stacked_embedings,tf.reshape(embedding_i,[x_size,y_size,1])])\n",
        "\n",
        "assert stacked_embedings.get_shape().as_list()[2]==2*window_size\n",
        "print(\"Stacked embedding size: %s\"%stacked_embedings.get_shape().as_list())\n",
        "mean_embeddings =  tf.reduce_mean(stacked_embedings,2,keepdims=False)\n",
        "print(\"Reduced mean embedding size: %s\"%mean_embeddings.get_shape().as_list())\n",
        "\n",
        "# Compute the softmax loss, using a sample of the negative labels each time.\n",
        "# inputs are embeddings of the train words\n",
        "# with this loss we optimize weights, biases, embeddings\n",
        "loss = tf.reduce_mean(\n",
        "    tf.nn.sampled_softmax_loss(weights=softmax_weights, biases=softmax_biases, inputs=mean_embeddings,\n",
        "                           labels=train_labels, num_sampled=num_sampled, num_classes=vocabulary_size))"
      ],
      "execution_count": 92,
      "outputs": [
        {
          "output_type": "stream",
          "text": [
            "Defining 8 embedding lookups representing each word in the context\n",
            "Stacked embedding size: [128, 32, 8]\n",
            "Reduced mean embedding size: [128, 32]\n"
          ],
          "name": "stdout"
        }
      ]
    },
    {
      "cell_type": "code",
      "metadata": {
        "id": "pD8uLeKHy3tt",
        "colab_type": "code",
        "colab": {}
      },
      "source": [
        "optimizer = tf.train.AdagradOptimizer(1.0).minimize(loss)\n"
      ],
      "execution_count": 93,
      "outputs": []
    },
    {
      "cell_type": "code",
      "metadata": {
        "id": "MwF_bdO-y3xc",
        "colab_type": "code",
        "colab": {}
      },
      "source": [
        "norm = tf.sqrt(tf.reduce_sum(tf.square(embeddings), 1, keepdims=True))\n",
        "normalized_embeddings = embeddings / norm\n",
        "valid_embeddings = tf.nn.embedding_lookup(normalized_embeddings, valid_dataset)\n",
        "similarity = tf.matmul(valid_embeddings, tf.transpose(normalized_embeddings))"
      ],
      "execution_count": 94,
      "outputs": []
    },
    {
      "cell_type": "code",
      "metadata": {
        "id": "iCoNIBpk3IK7",
        "colab_type": "code",
        "colab": {}
      },
      "source": [
        "test_labels = tf.placeholder(tf.int32, shape=[batch_size],name='test_dataset')\n",
        "\n",
        "mean_batch_embedding = tf.reduce_mean(tf.nn.embedding_lookup(embeddings,test_labels),axis=0)"
      ],
      "execution_count": 95,
      "outputs": []
    },
    {
      "cell_type": "code",
      "metadata": {
        "id": "TdqJH8oKy3pB",
        "colab_type": "code",
        "colab": {
          "base_uri": "https://localhost:8080/",
          "height": 1000
        },
        "outputId": "7de8f96e-f947-4a20-9ed5-ec6e76013c8a"
      },
      "source": [
        "num_steps = 200001\n",
        "cbow_loss = []\n",
        "\n",
        "config=tf.ConfigProto(allow_soft_placement=True)\n",
        "# This is an important setting and with limited GPU memory,\n",
        "# not using this option might lead to the following error.\n",
        "# InternalError (see above for traceback): Blas GEMM launch failed : ...\n",
        "config.gpu_options.allow_growth = True\n",
        "\n",
        "with tf.Session(config=config) as session:\n",
        "    \n",
        "    # Initialize the variables in the graph\n",
        "    tf.global_variables_initializer().run()\n",
        "    print('Initialized')\n",
        "    \n",
        "    average_loss = 0\n",
        "    \n",
        "    # Train the Word2vec model for num_step iterations\n",
        "    for step in range(num_steps):\n",
        "        \n",
        "        # Generate a single batch of data\n",
        "        batch_data, batch_labels = generate_batch_cbow(batch_size, window_size)\n",
        "        \n",
        "        # Populate the feed_dict and run the optimizer (minimize loss)\n",
        "        # and compute the loss\n",
        "        feed_dict = {train_dataset : batch_data, train_labels : batch_labels}\n",
        "        _, l = session.run([optimizer, loss], feed_dict=feed_dict)\n",
        "        \n",
        "        # Update the average loss variable\n",
        "        average_loss += l\n",
        "        \n",
        "        if (step+1) % 2000 == 0:\n",
        "            if step > 0:\n",
        "                average_loss = average_loss / 2000\n",
        "                # The average loss is an estimate of the loss over the last 2000 batches.\n",
        "            print('Average loss at step %d: %f' % (step+1, average_loss))\n",
        "            cbow_loss.append(average_loss)\n",
        "            average_loss = 0\n",
        "        \n",
        "        # Evaluating validation set word similarities\n",
        "       \n",
        "    \n",
        "    # Computing test documents embeddings by averaging word embeddings\n",
        "    \n",
        "    # We take batch_size*num_test_steps words from each document\n",
        "    # to compute document embeddings\n",
        "    num_test_steps = 100\n",
        "    \n",
        "    # Store document embeddings\n",
        "    # {document_id:embedding} format\n",
        "    document_embeddings = {}\n",
        "    print('Testing Phase (Compute document embeddings)')\n",
        "  \n",
        "      # For each test document compute document embeddings\n",
        "    for k,v in test_data.items():\n",
        "        print('\\tCalculating mean embedding for document ',k,' with ', num_test_steps, ' steps.')\n",
        "        test_data_index = 0\n",
        "        topic_mean_batch_embeddings = np.empty((num_test_steps,embedding_size),dtype=np.float32)\n",
        "        \n",
        "        # keep averaging mean word embeddings obtained for each step\n",
        "        for test_step in range(num_test_steps):\n",
        "            test_batch_labels = generate_test_batch(test_data[k],batch_size)\n",
        "            batch_mean = session.run(mean_batch_embedding,feed_dict={test_labels:test_batch_labels})\n",
        "            topic_mean_batch_embeddings[test_step,:] = batch_mean\n",
        "        document_embeddings[k] = np.mean(topic_mean_batch_embeddings,axis=0)\n",
        "        \n",
        "    word_embedding = session.run(embeddings)"
      ],
      "execution_count": 96,
      "outputs": [
        {
          "output_type": "stream",
          "text": [
            "Initialized\n",
            "Average loss at step 2000: 3.049781\n",
            "Average loss at step 4000: 2.312295\n",
            "Average loss at step 6000: 1.935265\n",
            "Average loss at step 8000: 1.697444\n",
            "Average loss at step 10000: 1.529032\n",
            "Average loss at step 12000: 1.395401\n",
            "Average loss at step 14000: 1.291591\n",
            "Average loss at step 16000: 1.204886\n",
            "Average loss at step 18000: 1.137412\n",
            "Average loss at step 20000: 1.066162\n",
            "Average loss at step 22000: 1.012944\n",
            "Average loss at step 24000: 0.962491\n",
            "Average loss at step 26000: 0.921808\n",
            "Average loss at step 28000: 0.878655\n",
            "Average loss at step 30000: 0.853082\n",
            "Average loss at step 32000: 0.813545\n",
            "Average loss at step 34000: 0.789870\n",
            "Average loss at step 36000: 0.770197\n",
            "Average loss at step 38000: 0.742126\n",
            "Average loss at step 40000: 0.722660\n",
            "Average loss at step 42000: 0.698715\n",
            "Average loss at step 44000: 0.675248\n",
            "Average loss at step 46000: 0.666880\n",
            "Average loss at step 48000: 0.651788\n",
            "Average loss at step 50000: 0.635734\n",
            "Average loss at step 52000: 0.616311\n",
            "Average loss at step 54000: 0.602975\n",
            "Average loss at step 56000: 0.595840\n",
            "Average loss at step 58000: 0.579414\n",
            "Average loss at step 60000: 0.572347\n",
            "Average loss at step 62000: 0.560312\n",
            "Average loss at step 64000: 0.546047\n",
            "Average loss at step 66000: 0.539513\n",
            "Average loss at step 68000: 0.533977\n",
            "Average loss at step 70000: 0.518236\n",
            "Average loss at step 72000: 0.517778\n",
            "Average loss at step 74000: 0.506777\n",
            "Average loss at step 76000: 0.503183\n",
            "Average loss at step 78000: 0.495609\n",
            "Average loss at step 80000: 0.481844\n",
            "Average loss at step 82000: 0.482852\n",
            "Average loss at step 84000: 0.472351\n",
            "Average loss at step 86000: 0.466676\n",
            "Average loss at step 88000: 0.461057\n",
            "Average loss at step 90000: 0.452728\n",
            "Average loss at step 92000: 0.449118\n",
            "Average loss at step 94000: 0.444650\n",
            "Average loss at step 96000: 0.436469\n",
            "Average loss at step 98000: 0.436735\n",
            "Average loss at step 100000: 0.426182\n",
            "Average loss at step 102000: 0.421586\n",
            "Average loss at step 104000: 0.415683\n",
            "Average loss at step 106000: 0.415226\n",
            "Average loss at step 108000: 0.412114\n",
            "Average loss at step 110000: 0.408596\n",
            "Average loss at step 112000: 0.405456\n",
            "Average loss at step 114000: 0.398792\n",
            "Average loss at step 116000: 0.391099\n",
            "Average loss at step 118000: 0.391030\n",
            "Average loss at step 120000: 0.387076\n",
            "Average loss at step 122000: 0.386317\n",
            "Average loss at step 124000: 0.381076\n",
            "Average loss at step 126000: 0.376783\n",
            "Average loss at step 128000: 0.372544\n",
            "Average loss at step 130000: 0.367336\n",
            "Average loss at step 132000: 0.367152\n",
            "Average loss at step 134000: 0.368590\n",
            "Average loss at step 136000: 0.365466\n",
            "Average loss at step 138000: 0.361392\n",
            "Average loss at step 140000: 0.362101\n",
            "Average loss at step 142000: 0.351419\n",
            "Average loss at step 144000: 0.354022\n",
            "Average loss at step 146000: 0.350727\n",
            "Average loss at step 148000: 0.347055\n",
            "Average loss at step 150000: 0.344943\n",
            "Average loss at step 152000: 0.337315\n",
            "Average loss at step 154000: 0.341209\n",
            "Average loss at step 156000: 0.339057\n",
            "Average loss at step 158000: 0.335174\n",
            "Average loss at step 160000: 0.335832\n",
            "Average loss at step 162000: 0.331467\n",
            "Average loss at step 164000: 0.329735\n",
            "Average loss at step 166000: 0.326719\n",
            "Average loss at step 168000: 0.320943\n",
            "Average loss at step 170000: 0.329576\n",
            "Average loss at step 172000: 0.321355\n",
            "Average loss at step 174000: 0.318055\n",
            "Average loss at step 176000: 0.323534\n",
            "Average loss at step 178000: 0.316248\n",
            "Average loss at step 180000: 0.316870\n",
            "Average loss at step 182000: 0.313597\n",
            "Average loss at step 184000: 0.311004\n",
            "Average loss at step 186000: 0.314579\n",
            "Average loss at step 188000: 0.308977\n",
            "Average loss at step 190000: 0.307915\n",
            "Average loss at step 192000: 0.303514\n",
            "Average loss at step 194000: 0.303957\n",
            "Average loss at step 196000: 0.300968\n",
            "Average loss at step 198000: 0.293601\n",
            "Average loss at step 200000: 0.295837\n",
            "Testing Phase (Compute document embeddings)\n",
            "\tCalculating mean embedding for document  Natural Language Processing with TensorFlow ( PDFDrive.com )-22.pdf  with  100  steps.\n",
            "\tCalculating mean embedding for document  Natural Language Processing with TensorFlow ( PDFDrive.com )-23.pdf  with  100  steps.\n",
            "\tCalculating mean embedding for document  Natural Language Processing with TensorFlow ( PDFDrive.com )-66.pdf  with  100  steps.\n",
            "\tCalculating mean embedding for document  Natural Language Processing with TensorFlow ( PDFDrive.com )-64.pdf  with  100  steps.\n",
            "\tCalculating mean embedding for document  Natural Language Processing with TensorFlow ( PDFDrive.com )-31.pdf  with  100  steps.\n",
            "\tCalculating mean embedding for document  Natural Language Processing with TensorFlow ( PDFDrive.com )-33.pdf  with  100  steps.\n",
            "\tCalculating mean embedding for document  Natural Language Processing with TensorFlow ( PDFDrive.com )-28.pdf  with  100  steps.\n",
            "\tCalculating mean embedding for document  Natural Language Processing with TensorFlow ( PDFDrive.com )-36.pdf  with  100  steps.\n",
            "\tCalculating mean embedding for document  Natural Language Processing with TensorFlow ( PDFDrive.com )-50.pdf  with  100  steps.\n",
            "\tCalculating mean embedding for document  Natural Language Processing with TensorFlow ( PDFDrive.com )-35.pdf  with  100  steps.\n",
            "\tCalculating mean embedding for document  Natural Language Processing with TensorFlow ( PDFDrive.com )-61.pdf  with  100  steps.\n",
            "\tCalculating mean embedding for document  Natural Language Processing with TensorFlow ( PDFDrive.com )-42.pdf  with  100  steps.\n",
            "\tCalculating mean embedding for document  Natural Language Processing with TensorFlow ( PDFDrive.com )-43.pdf  with  100  steps.\n",
            "\tCalculating mean embedding for document  Natural Language Processing with TensorFlow ( PDFDrive.com )-44.pdf  with  100  steps.\n",
            "\tCalculating mean embedding for document  Natural Language Processing with TensorFlow ( PDFDrive.com )-62.pdf  with  100  steps.\n",
            "\tCalculating mean embedding for document  Natural Language Processing with TensorFlow ( PDFDrive.com )-45.pdf  with  100  steps.\n",
            "\tCalculating mean embedding for document  Natural Language Processing with TensorFlow ( PDFDrive.com )-49.pdf  with  100  steps.\n",
            "\tCalculating mean embedding for document  Natural Language Processing with TensorFlow ( PDFDrive.com )-29.pdf  with  100  steps.\n",
            "\tCalculating mean embedding for document  Natural Language Processing with TensorFlow ( PDFDrive.com )-46.pdf  with  100  steps.\n",
            "\tCalculating mean embedding for document  Natural Language Processing with TensorFlow ( PDFDrive.com )-30.pdf  with  100  steps.\n",
            "\tCalculating mean embedding for document  Natural Language Processing with TensorFlow ( PDFDrive.com )-63.pdf  with  100  steps.\n",
            "\tCalculating mean embedding for document  Natural Language Processing with TensorFlow ( PDFDrive.com )-47.pdf  with  100  steps.\n",
            "\tCalculating mean embedding for document  Natural Language Processing with TensorFlow ( PDFDrive.com )-57.pdf  with  100  steps.\n",
            "\tCalculating mean embedding for document  Natural Language Processing with TensorFlow ( PDFDrive.com )-56.pdf  with  100  steps.\n",
            "\tCalculating mean embedding for document  Natural Language Processing with TensorFlow ( PDFDrive.com )-59.pdf  with  100  steps.\n",
            "\tCalculating mean embedding for document  Natural Language Processing with TensorFlow ( PDFDrive.com )-32.pdf  with  100  steps.\n",
            "\tCalculating mean embedding for document  Natural Language Processing with TensorFlow ( PDFDrive.com )-40.pdf  with  100  steps.\n",
            "\tCalculating mean embedding for document  Natural Language Processing with TensorFlow ( PDFDrive.com )-27.pdf  with  100  steps.\n",
            "\tCalculating mean embedding for document  Natural Language Processing with TensorFlow ( PDFDrive.com )-58.pdf  with  100  steps.\n",
            "\tCalculating mean embedding for document  Natural Language Processing with TensorFlow ( PDFDrive.com )-54.pdf  with  100  steps.\n",
            "\tCalculating mean embedding for document  Natural Language Processing with TensorFlow ( PDFDrive.com )-37.pdf  with  100  steps.\n",
            "\tCalculating mean embedding for document  Natural Language Processing with TensorFlow ( PDFDrive.com )-34.pdf  with  100  steps.\n",
            "\tCalculating mean embedding for document  Natural Language Processing with TensorFlow ( PDFDrive.com )-38.pdf  with  100  steps.\n",
            "\tCalculating mean embedding for document  Natural Language Processing with TensorFlow ( PDFDrive.com )-48.pdf  with  100  steps.\n",
            "\tCalculating mean embedding for document  Natural Language Processing with TensorFlow ( PDFDrive.com )-65.pdf  with  100  steps.\n",
            "\tCalculating mean embedding for document  Natural Language Processing with TensorFlow ( PDFDrive.com )-55.pdf  with  100  steps.\n",
            "\tCalculating mean embedding for document  Natural Language Processing with TensorFlow ( PDFDrive.com )-52.pdf  with  100  steps.\n",
            "\tCalculating mean embedding for document  Natural Language Processing with TensorFlow ( PDFDrive.com )-41.pdf  with  100  steps.\n",
            "\tCalculating mean embedding for document  Natural Language Processing with TensorFlow ( PDFDrive.com )-60.pdf  with  100  steps.\n",
            "\tCalculating mean embedding for document  Natural Language Processing with TensorFlow ( PDFDrive.com )-53.pdf  with  100  steps.\n",
            "\tCalculating mean embedding for document  Natural Language Processing with TensorFlow ( PDFDrive.com )-39.pdf  with  100  steps.\n",
            "\tCalculating mean embedding for document  Natural Language Processing with TensorFlow ( PDFDrive.com )-106.pdf  with  100  steps.\n",
            "\tCalculating mean embedding for document  Natural Language Processing with TensorFlow ( PDFDrive.com )-100.pdf  with  100  steps.\n",
            "\tCalculating mean embedding for document  Natural Language Processing with TensorFlow ( PDFDrive.com )-67.pdf  with  100  steps.\n",
            "\tCalculating mean embedding for document  Natural Language Processing with TensorFlow ( PDFDrive.com )-112.pdf  with  100  steps.\n",
            "\tCalculating mean embedding for document  Natural Language Processing with TensorFlow ( PDFDrive.com )-70.pdf  with  100  steps.\n",
            "\tCalculating mean embedding for document  Natural Language Processing with TensorFlow ( PDFDrive.com )-108.pdf  with  100  steps.\n",
            "\tCalculating mean embedding for document  Natural Language Processing with TensorFlow ( PDFDrive.com )-103.pdf  with  100  steps.\n",
            "\tCalculating mean embedding for document  Natural Language Processing with TensorFlow ( PDFDrive.com )-93.pdf  with  100  steps.\n",
            "\tCalculating mean embedding for document  Natural Language Processing with TensorFlow ( PDFDrive.com )-109.pdf  with  100  steps.\n",
            "\tCalculating mean embedding for document  Natural Language Processing with TensorFlow ( PDFDrive.com )-84.pdf  with  100  steps.\n",
            "\tCalculating mean embedding for document  Natural Language Processing with TensorFlow ( PDFDrive.com )-110.pdf  with  100  steps.\n",
            "\tCalculating mean embedding for document  Natural Language Processing with TensorFlow ( PDFDrive.com )-104.pdf  with  100  steps.\n",
            "\tCalculating mean embedding for document  Natural Language Processing with TensorFlow ( PDFDrive.com )-102.pdf  with  100  steps.\n",
            "\tCalculating mean embedding for document  Natural Language Processing with TensorFlow ( PDFDrive.com )-71.pdf  with  100  steps.\n",
            "\tCalculating mean embedding for document  Natural Language Processing with TensorFlow ( PDFDrive.com )-97.pdf  with  100  steps.\n",
            "\tCalculating mean embedding for document  Natural Language Processing with TensorFlow ( PDFDrive.com )-87.pdf  with  100  steps.\n",
            "\tCalculating mean embedding for document  Natural Language Processing with TensorFlow ( PDFDrive.com )-101.pdf  with  100  steps.\n",
            "\tCalculating mean embedding for document  Natural Language Processing with TensorFlow ( PDFDrive.com )-111.pdf  with  100  steps.\n",
            "\tCalculating mean embedding for document  Natural Language Processing with TensorFlow ( PDFDrive.com )-74.pdf  with  100  steps.\n",
            "\tCalculating mean embedding for document  Natural Language Processing with TensorFlow ( PDFDrive.com )-72.pdf  with  100  steps.\n",
            "\tCalculating mean embedding for document  Natural Language Processing with TensorFlow ( PDFDrive.com )-95.pdf  with  100  steps.\n",
            "\tCalculating mean embedding for document  Natural Language Processing with TensorFlow ( PDFDrive.com )-75.pdf  with  100  steps.\n",
            "\tCalculating mean embedding for document  Natural Language Processing with TensorFlow ( PDFDrive.com )-99.pdf  with  100  steps.\n",
            "\tCalculating mean embedding for document  Natural Language Processing with TensorFlow ( PDFDrive.com )-78.pdf  with  100  steps.\n",
            "\tCalculating mean embedding for document  Natural Language Processing with TensorFlow ( PDFDrive.com )-68.pdf  with  100  steps.\n",
            "\tCalculating mean embedding for document  Natural Language Processing with TensorFlow ( PDFDrive.com )-88.pdf  with  100  steps.\n",
            "\tCalculating mean embedding for document  Natural Language Processing with TensorFlow ( PDFDrive.com )-105.pdf  with  100  steps.\n",
            "\tCalculating mean embedding for document  Natural Language Processing with TensorFlow ( PDFDrive.com )-79.pdf  with  100  steps.\n",
            "\tCalculating mean embedding for document  Natural Language Processing with TensorFlow ( PDFDrive.com )-83.pdf  with  100  steps.\n",
            "\tCalculating mean embedding for document  Natural Language Processing with TensorFlow ( PDFDrive.com )-85.pdf  with  100  steps.\n",
            "\tCalculating mean embedding for document  Natural Language Processing with TensorFlow ( PDFDrive.com )-69.pdf  with  100  steps.\n",
            "\tCalculating mean embedding for document  Natural Language Processing with TensorFlow ( PDFDrive.com )-86.pdf  with  100  steps.\n",
            "\tCalculating mean embedding for document  Natural Language Processing with TensorFlow ( PDFDrive.com )-96.pdf  with  100  steps.\n",
            "\tCalculating mean embedding for document  Natural Language Processing with TensorFlow ( PDFDrive.com )-81.pdf  with  100  steps.\n",
            "\tCalculating mean embedding for document  Natural Language Processing with TensorFlow ( PDFDrive.com )-94.pdf  with  100  steps.\n",
            "\tCalculating mean embedding for document  Natural Language Processing with TensorFlow ( PDFDrive.com )-73.pdf  with  100  steps.\n",
            "\tCalculating mean embedding for document  Natural Language Processing with TensorFlow ( PDFDrive.com )-92.pdf  with  100  steps.\n",
            "\tCalculating mean embedding for document  Natural Language Processing with TensorFlow ( PDFDrive.com )-82.pdf  with  100  steps.\n",
            "\tCalculating mean embedding for document  Natural Language Processing with TensorFlow ( PDFDrive.com )-90.pdf  with  100  steps.\n",
            "\tCalculating mean embedding for document  Natural Language Processing with TensorFlow ( PDFDrive.com )-89.pdf  with  100  steps.\n",
            "\tCalculating mean embedding for document  Natural Language Processing with TensorFlow ( PDFDrive.com )-76.pdf  with  100  steps.\n",
            "\tCalculating mean embedding for document  Natural Language Processing with TensorFlow ( PDFDrive.com )-77.pdf  with  100  steps.\n",
            "\tCalculating mean embedding for document  Natural Language Processing with TensorFlow ( PDFDrive.com )-80.pdf  with  100  steps.\n",
            "\tCalculating mean embedding for document  Natural Language Processing with TensorFlow ( PDFDrive.com )-98.pdf  with  100  steps.\n",
            "\tCalculating mean embedding for document  Natural Language Processing with TensorFlow ( PDFDrive.com )-107.pdf  with  100  steps.\n",
            "\tCalculating mean embedding for document  Natural Language Processing with TensorFlow ( PDFDrive.com )-119.pdf  with  100  steps.\n",
            "\tCalculating mean embedding for document  Natural Language Processing with TensorFlow ( PDFDrive.com )-117.pdf  with  100  steps.\n",
            "\tCalculating mean embedding for document  Natural Language Processing with TensorFlow ( PDFDrive.com )-120.pdf  with  100  steps.\n",
            "\tCalculating mean embedding for document  Natural Language Processing with TensorFlow ( PDFDrive.com )-139.pdf  with  100  steps.\n",
            "\tCalculating mean embedding for document  Natural Language Processing with TensorFlow ( PDFDrive.com )-147.pdf  with  100  steps.\n",
            "\tCalculating mean embedding for document  Natural Language Processing with TensorFlow ( PDFDrive.com )-146.pdf  with  100  steps.\n",
            "\tCalculating mean embedding for document  Natural Language Processing with TensorFlow ( PDFDrive.com )-136.pdf  with  100  steps.\n",
            "\tCalculating mean embedding for document  Natural Language Processing with TensorFlow ( PDFDrive.com )-115.pdf  with  100  steps.\n",
            "\tCalculating mean embedding for document  Natural Language Processing with TensorFlow ( PDFDrive.com )-153.pdf  with  100  steps.\n",
            "\tCalculating mean embedding for document  Natural Language Processing with TensorFlow ( PDFDrive.com )-149.pdf  with  100  steps.\n",
            "\tCalculating mean embedding for document  Natural Language Processing with TensorFlow ( PDFDrive.com )-131.pdf  with  100  steps.\n",
            "\tCalculating mean embedding for document  Natural Language Processing with TensorFlow ( PDFDrive.com )-135.pdf  with  100  steps.\n",
            "\tCalculating mean embedding for document  Natural Language Processing with TensorFlow ( PDFDrive.com )-155.pdf  with  100  steps.\n",
            "\tCalculating mean embedding for document  Natural Language Processing with TensorFlow ( PDFDrive.com )-148.pdf  with  100  steps.\n",
            "\tCalculating mean embedding for document  Natural Language Processing with TensorFlow ( PDFDrive.com )-157.pdf  with  100  steps.\n",
            "\tCalculating mean embedding for document  Natural Language Processing with TensorFlow ( PDFDrive.com )-156.pdf  with  100  steps.\n",
            "\tCalculating mean embedding for document  Natural Language Processing with TensorFlow ( PDFDrive.com )-132.pdf  with  100  steps.\n",
            "\tCalculating mean embedding for document  Natural Language Processing with TensorFlow ( PDFDrive.com )-116.pdf  with  100  steps.\n",
            "\tCalculating mean embedding for document  Natural Language Processing with TensorFlow ( PDFDrive.com )-151.pdf  with  100  steps.\n",
            "\tCalculating mean embedding for document  Natural Language Processing with TensorFlow ( PDFDrive.com )-137.pdf  with  100  steps.\n",
            "\tCalculating mean embedding for document  Natural Language Processing with TensorFlow ( PDFDrive.com )-143.pdf  with  100  steps.\n",
            "\tCalculating mean embedding for document  Natural Language Processing with TensorFlow ( PDFDrive.com )-118.pdf  with  100  steps.\n",
            "\tCalculating mean embedding for document  Natural Language Processing with TensorFlow ( PDFDrive.com )-145.pdf  with  100  steps.\n",
            "\tCalculating mean embedding for document  Natural Language Processing with TensorFlow ( PDFDrive.com )-138.pdf  with  100  steps.\n",
            "\tCalculating mean embedding for document  Natural Language Processing with TensorFlow ( PDFDrive.com )-141.pdf  with  100  steps.\n",
            "\tCalculating mean embedding for document  Natural Language Processing with TensorFlow ( PDFDrive.com )-140.pdf  with  100  steps.\n",
            "\tCalculating mean embedding for document  Natural Language Processing with TensorFlow ( PDFDrive.com )-142.pdf  with  100  steps.\n",
            "\tCalculating mean embedding for document  Natural Language Processing with TensorFlow ( PDFDrive.com )-113.pdf  with  100  steps.\n",
            "\tCalculating mean embedding for document  Natural Language Processing with TensorFlow ( PDFDrive.com )-159.pdf  with  100  steps.\n",
            "\tCalculating mean embedding for document  Natural Language Processing with TensorFlow ( PDFDrive.com )-160.pdf  with  100  steps.\n",
            "\tCalculating mean embedding for document  Natural Language Processing with TensorFlow ( PDFDrive.com )-144.pdf  with  100  steps.\n",
            "\tCalculating mean embedding for document  Natural Language Processing with TensorFlow ( PDFDrive.com )-150.pdf  with  100  steps.\n",
            "\tCalculating mean embedding for document  Natural Language Processing with TensorFlow ( PDFDrive.com )-134.pdf  with  100  steps.\n",
            "\tCalculating mean embedding for document  Natural Language Processing with TensorFlow ( PDFDrive.com )-152.pdf  with  100  steps.\n",
            "\tCalculating mean embedding for document  Natural Language Processing with TensorFlow ( PDFDrive.com )-121.pdf  with  100  steps.\n",
            "\tCalculating mean embedding for document  Natural Language Processing with TensorFlow ( PDFDrive.com )-114.pdf  with  100  steps.\n",
            "\tCalculating mean embedding for document  Natural Language Processing with TensorFlow ( PDFDrive.com )-154.pdf  with  100  steps.\n",
            "\tCalculating mean embedding for document  Natural Language Processing with TensorFlow ( PDFDrive.com )-158.pdf  with  100  steps.\n",
            "\tCalculating mean embedding for document  Natural Language Processing with TensorFlow ( PDFDrive.com )-133.pdf  with  100  steps.\n",
            "\tCalculating mean embedding for document  Natural Language Processing with TensorFlow ( PDFDrive.com )-241.pdf  with  100  steps.\n",
            "\tCalculating mean embedding for document  Natural Language Processing with TensorFlow ( PDFDrive.com )-243.pdf  with  100  steps.\n",
            "\tCalculating mean embedding for document  Natural Language Processing with TensorFlow ( PDFDrive.com )-244.pdf  with  100  steps.\n",
            "\tCalculating mean embedding for document  Natural Language Processing with TensorFlow ( PDFDrive.com )-225.pdf  with  100  steps.\n",
            "\tCalculating mean embedding for document  Natural Language Processing with TensorFlow ( PDFDrive.com )-238.pdf  with  100  steps.\n",
            "\tCalculating mean embedding for document  Natural Language Processing with TensorFlow ( PDFDrive.com )-232.pdf  with  100  steps.\n",
            "\tCalculating mean embedding for document  Natural Language Processing with TensorFlow ( PDFDrive.com )-223.pdf  with  100  steps.\n",
            "\tCalculating mean embedding for document  Natural Language Processing with TensorFlow ( PDFDrive.com )-252.pdf  with  100  steps.\n",
            "\tCalculating mean embedding for document  Natural Language Processing with TensorFlow ( PDFDrive.com )-249.pdf  with  100  steps.\n",
            "\tCalculating mean embedding for document  Natural Language Processing with TensorFlow ( PDFDrive.com )-246.pdf  with  100  steps.\n",
            "\tCalculating mean embedding for document  Natural Language Processing with TensorFlow ( PDFDrive.com )-230.pdf  with  100  steps.\n",
            "\tCalculating mean embedding for document  Natural Language Processing with TensorFlow ( PDFDrive.com )-227.pdf  with  100  steps.\n",
            "\tCalculating mean embedding for document  Natural Language Processing with TensorFlow ( PDFDrive.com )-231.pdf  with  100  steps.\n",
            "\tCalculating mean embedding for document  Natural Language Processing with TensorFlow ( PDFDrive.com )-239.pdf  with  100  steps.\n",
            "\tCalculating mean embedding for document  Natural Language Processing with TensorFlow ( PDFDrive.com )-228.pdf  with  100  steps.\n",
            "\tCalculating mean embedding for document  Natural Language Processing with TensorFlow ( PDFDrive.com )-233.pdf  with  100  steps.\n",
            "\tCalculating mean embedding for document  Natural Language Processing with TensorFlow ( PDFDrive.com )-242.pdf  with  100  steps.\n",
            "\tCalculating mean embedding for document  Natural Language Processing with TensorFlow ( PDFDrive.com )-248.pdf  with  100  steps.\n",
            "\tCalculating mean embedding for document  Natural Language Processing with TensorFlow ( PDFDrive.com )-224.pdf  with  100  steps.\n",
            "\tCalculating mean embedding for document  Natural Language Processing with TensorFlow ( PDFDrive.com )-222.pdf  with  100  steps.\n",
            "\tCalculating mean embedding for document  Natural Language Processing with TensorFlow ( PDFDrive.com )-247.pdf  with  100  steps.\n",
            "\tCalculating mean embedding for document  Natural Language Processing with TensorFlow ( PDFDrive.com )-234.pdf  with  100  steps.\n",
            "\tCalculating mean embedding for document  Natural Language Processing with TensorFlow ( PDFDrive.com )-245.pdf  with  100  steps.\n",
            "\tCalculating mean embedding for document  Natural Language Processing with TensorFlow ( PDFDrive.com )-236.pdf  with  100  steps.\n",
            "\tCalculating mean embedding for document  Natural Language Processing with TensorFlow ( PDFDrive.com )-251.pdf  with  100  steps.\n",
            "\tCalculating mean embedding for document  Natural Language Processing with TensorFlow ( PDFDrive.com )-254.pdf  with  100  steps.\n",
            "\tCalculating mean embedding for document  Natural Language Processing with TensorFlow ( PDFDrive.com )-226.pdf  with  100  steps.\n",
            "\tCalculating mean embedding for document  Natural Language Processing with TensorFlow ( PDFDrive.com )-256.pdf  with  100  steps.\n",
            "\tCalculating mean embedding for document  Natural Language Processing with TensorFlow ( PDFDrive.com )-255.pdf  with  100  steps.\n",
            "\tCalculating mean embedding for document  Natural Language Processing with TensorFlow ( PDFDrive.com )-240.pdf  with  100  steps.\n",
            "\tCalculating mean embedding for document  Natural Language Processing with TensorFlow ( PDFDrive.com )-235.pdf  with  100  steps.\n",
            "\tCalculating mean embedding for document  Natural Language Processing with TensorFlow ( PDFDrive.com )-221.pdf  with  100  steps.\n",
            "\tCalculating mean embedding for document  Natural Language Processing with TensorFlow ( PDFDrive.com )-237.pdf  with  100  steps.\n",
            "\tCalculating mean embedding for document  Natural Language Processing with TensorFlow ( PDFDrive.com )-250.pdf  with  100  steps.\n",
            "\tCalculating mean embedding for document  Natural Language Processing with TensorFlow ( PDFDrive.com )-229.pdf  with  100  steps.\n",
            "\tCalculating mean embedding for document  Natural Language Processing with TensorFlow ( PDFDrive.com )-270.pdf  with  100  steps.\n",
            "\tCalculating mean embedding for document  Natural Language Processing with TensorFlow ( PDFDrive.com )-279.pdf  with  100  steps.\n",
            "\tCalculating mean embedding for document  Natural Language Processing with TensorFlow ( PDFDrive.com )-278.pdf  with  100  steps.\n",
            "\tCalculating mean embedding for document  Natural Language Processing with TensorFlow ( PDFDrive.com )-261.pdf  with  100  steps.\n",
            "\tCalculating mean embedding for document  Natural Language Processing with TensorFlow ( PDFDrive.com )-273.pdf  with  100  steps.\n",
            "\tCalculating mean embedding for document  Natural Language Processing with TensorFlow ( PDFDrive.com )-262.pdf  with  100  steps.\n",
            "\tCalculating mean embedding for document  Natural Language Processing with TensorFlow ( PDFDrive.com )-276.pdf  with  100  steps.\n",
            "\tCalculating mean embedding for document  Natural Language Processing with TensorFlow ( PDFDrive.com )-266.pdf  with  100  steps.\n",
            "\tCalculating mean embedding for document  Natural Language Processing with TensorFlow ( PDFDrive.com )-260.pdf  with  100  steps.\n",
            "\tCalculating mean embedding for document  Natural Language Processing with TensorFlow ( PDFDrive.com )-258.pdf  with  100  steps.\n",
            "\tCalculating mean embedding for document  Natural Language Processing with TensorFlow ( PDFDrive.com )-290.pdf  with  100  steps.\n",
            "\tCalculating mean embedding for document  Natural Language Processing with TensorFlow ( PDFDrive.com )-280.pdf  with  100  steps.\n",
            "\tCalculating mean embedding for document  Natural Language Processing with TensorFlow ( PDFDrive.com )-263.pdf  with  100  steps.\n",
            "\tCalculating mean embedding for document  Natural Language Processing with TensorFlow ( PDFDrive.com )-272.pdf  with  100  steps.\n",
            "\tCalculating mean embedding for document  Natural Language Processing with TensorFlow ( PDFDrive.com )-257.pdf  with  100  steps.\n",
            "\tCalculating mean embedding for document  Natural Language Processing with TensorFlow ( PDFDrive.com )-291.pdf  with  100  steps.\n",
            "\tCalculating mean embedding for document  Natural Language Processing with TensorFlow ( PDFDrive.com )-277.pdf  with  100  steps.\n",
            "\tCalculating mean embedding for document  Natural Language Processing with TensorFlow ( PDFDrive.com )-283.pdf  with  100  steps.\n",
            "\tCalculating mean embedding for document  Natural Language Processing with TensorFlow ( PDFDrive.com )-287.pdf  with  100  steps.\n",
            "\tCalculating mean embedding for document  Natural Language Processing with TensorFlow ( PDFDrive.com )-271.pdf  with  100  steps.\n",
            "\tCalculating mean embedding for document  Natural Language Processing with TensorFlow ( PDFDrive.com )-281.pdf  with  100  steps.\n",
            "\tCalculating mean embedding for document  Natural Language Processing with TensorFlow ( PDFDrive.com )-282.pdf  with  100  steps.\n",
            "\tCalculating mean embedding for document  Natural Language Processing with TensorFlow ( PDFDrive.com )-259.pdf  with  100  steps.\n",
            "\tCalculating mean embedding for document  Natural Language Processing with TensorFlow ( PDFDrive.com )-274.pdf  with  100  steps.\n",
            "\tCalculating mean embedding for document  Natural Language Processing with TensorFlow ( PDFDrive.com )-284.pdf  with  100  steps.\n",
            "\tCalculating mean embedding for document  Natural Language Processing with TensorFlow ( PDFDrive.com )-286.pdf  with  100  steps.\n",
            "\tCalculating mean embedding for document  Natural Language Processing with TensorFlow ( PDFDrive.com )-288.pdf  with  100  steps.\n",
            "\tCalculating mean embedding for document  Natural Language Processing with TensorFlow ( PDFDrive.com )-289.pdf  with  100  steps.\n",
            "\tCalculating mean embedding for document  Natural Language Processing with TensorFlow ( PDFDrive.com )-268.pdf  with  100  steps.\n",
            "\tCalculating mean embedding for document  Natural Language Processing with TensorFlow ( PDFDrive.com )-265.pdf  with  100  steps.\n",
            "\tCalculating mean embedding for document  Natural Language Processing with TensorFlow ( PDFDrive.com )-264.pdf  with  100  steps.\n",
            "\tCalculating mean embedding for document  Natural Language Processing with TensorFlow ( PDFDrive.com )-285.pdf  with  100  steps.\n",
            "\tCalculating mean embedding for document  Natural Language Processing with TensorFlow ( PDFDrive.com )-275.pdf  with  100  steps.\n",
            "\tCalculating mean embedding for document  Natural Language Processing with TensorFlow ( PDFDrive.com )-269.pdf  with  100  steps.\n",
            "\tCalculating mean embedding for document  Natural Language Processing with TensorFlow ( PDFDrive.com )-267.pdf  with  100  steps.\n",
            "\tCalculating mean embedding for document  Natural Language Processing with TensorFlow ( PDFDrive.com )-306.pdf  with  100  steps.\n",
            "\tCalculating mean embedding for document  Natural Language Processing with TensorFlow ( PDFDrive.com )-315.pdf  with  100  steps.\n",
            "\tCalculating mean embedding for document  Natural Language Processing with TensorFlow ( PDFDrive.com )-305.pdf  with  100  steps.\n",
            "\tCalculating mean embedding for document  Natural Language Processing with TensorFlow ( PDFDrive.com )-317.pdf  with  100  steps.\n",
            "\tCalculating mean embedding for document  Natural Language Processing with TensorFlow ( PDFDrive.com )-309.pdf  with  100  steps.\n",
            "\tCalculating mean embedding for document  Natural Language Processing with TensorFlow ( PDFDrive.com )-320.pdf  with  100  steps.\n",
            "\tCalculating mean embedding for document  Natural Language Processing with TensorFlow ( PDFDrive.com )-318.pdf  with  100  steps.\n",
            "\tCalculating mean embedding for document  Natural Language Processing with TensorFlow ( PDFDrive.com )-294.pdf  with  100  steps.\n",
            "\tCalculating mean embedding for document  Natural Language Processing with TensorFlow ( PDFDrive.com )-292.pdf  with  100  steps.\n",
            "\tCalculating mean embedding for document  Natural Language Processing with TensorFlow ( PDFDrive.com )-296.pdf  with  100  steps.\n",
            "\tCalculating mean embedding for document  Natural Language Processing with TensorFlow ( PDFDrive.com )-312.pdf  with  100  steps.\n",
            "\tCalculating mean embedding for document  Natural Language Processing with TensorFlow ( PDFDrive.com )-300.pdf  with  100  steps.\n",
            "\tCalculating mean embedding for document  Natural Language Processing with TensorFlow ( PDFDrive.com )-311.pdf  with  100  steps.\n",
            "\tCalculating mean embedding for document  Natural Language Processing with TensorFlow ( PDFDrive.com )-304.pdf  with  100  steps.\n",
            "\tCalculating mean embedding for document  Natural Language Processing with TensorFlow ( PDFDrive.com )-303.pdf  with  100  steps.\n",
            "\tCalculating mean embedding for document  Natural Language Processing with TensorFlow ( PDFDrive.com )-298.pdf  with  100  steps.\n",
            "\tCalculating mean embedding for document  Natural Language Processing with TensorFlow ( PDFDrive.com )-295.pdf  with  100  steps.\n",
            "\tCalculating mean embedding for document  Natural Language Processing with TensorFlow ( PDFDrive.com )-310.pdf  with  100  steps.\n",
            "\tCalculating mean embedding for document  Natural Language Processing with TensorFlow ( PDFDrive.com )-308.pdf  with  100  steps.\n",
            "\tCalculating mean embedding for document  Natural Language Processing with TensorFlow ( PDFDrive.com )-316.pdf  with  100  steps.\n",
            "\tCalculating mean embedding for document  Natural Language Processing with TensorFlow ( PDFDrive.com )-319.pdf  with  100  steps.\n",
            "\tCalculating mean embedding for document  Natural Language Processing with TensorFlow ( PDFDrive.com )-297.pdf  with  100  steps.\n",
            "\tCalculating mean embedding for document  Natural Language Processing with TensorFlow ( PDFDrive.com )-307.pdf  with  100  steps.\n",
            "\tCalculating mean embedding for document  Natural Language Processing with TensorFlow ( PDFDrive.com )-299.pdf  with  100  steps.\n",
            "\tCalculating mean embedding for document  Natural Language Processing with TensorFlow ( PDFDrive.com )-302.pdf  with  100  steps.\n",
            "\tCalculating mean embedding for document  Natural Language Processing with TensorFlow ( PDFDrive.com )-293.pdf  with  100  steps.\n",
            "\tCalculating mean embedding for document  Natural Language Processing with TensorFlow ( PDFDrive.com )-301.pdf  with  100  steps.\n",
            "\tCalculating mean embedding for document  Natural Language Processing with TensorFlow ( PDFDrive.com )-314.pdf  with  100  steps.\n",
            "\tCalculating mean embedding for document  Natural Language Processing with TensorFlow ( PDFDrive.com )-313.pdf  with  100  steps.\n"
          ],
          "name": "stdout"
        }
      ]
    },
    {
      "cell_type": "code",
      "metadata": {
        "id": "uPRBBs8r8gNg",
        "colab_type": "code",
        "colab": {}
      },
      "source": [
        "len(set(train_data))"
      ],
      "execution_count": null,
      "outputs": []
    },
    {
      "cell_type": "code",
      "metadata": {
        "id": "aUfXHZ0ih_65",
        "colab_type": "code",
        "colab": {}
      },
      "source": [
        "import pandas as pd\n",
        "df = pd.DataFrame.from_dict(document_embeddings)"
      ],
      "execution_count": null,
      "outputs": []
    },
    {
      "cell_type": "code",
      "metadata": {
        "id": "OSrtsYuwivO4",
        "colab_type": "code",
        "colab": {}
      },
      "source": [
        "df.to_csv(\"document_embeddings.csv\")"
      ],
      "execution_count": null,
      "outputs": []
    },
    {
      "cell_type": "code",
      "metadata": {
        "id": "TYT41hr5bDXU",
        "colab_type": "code",
        "colab": {}
      },
      "source": [
        "def get_cosine_similarity(feature_vec_1, feature_vec_2):    \n",
        "    return cosine_similarity(feature_vec_1.reshape(1, -1), feature_vec_2.reshape(1, -1))[0][0]\n"
      ],
      "execution_count": 97,
      "outputs": []
    },
    {
      "cell_type": "code",
      "metadata": {
        "id": "w3-XDu5t_JKd",
        "colab_type": "code",
        "colab": {}
      },
      "source": [
        "import gensim"
      ],
      "execution_count": 110,
      "outputs": []
    },
    {
      "cell_type": "code",
      "metadata": {
        "id": "q-D70Iko_AdB",
        "colab_type": "code",
        "colab": {}
      },
      "source": [
        "model = gensim.models.Word2Vec(sentences=train_data,\n",
        "                               min_count=5,\n",
        "                               window=5,\n",
        "                               iter=5000)"
      ],
      "execution_count": 111,
      "outputs": []
    },
    {
      "cell_type": "code",
      "metadata": {
        "id": "Rdn2DKXd-b3X",
        "colab_type": "code",
        "colab": {}
      },
      "source": [
        "def synonyms(query):\n",
        "  query_new =[]\n",
        "\n",
        "  for f in query:\n",
        "    query_new.append(f)\n",
        "    a = model.most_similar(f, topn=3)\n",
        "    for f1 in a:\n",
        "      query_new.append(f1[0])\n",
        "\n",
        "  return query_new\n"
      ],
      "execution_count": 112,
      "outputs": []
    },
    {
      "cell_type": "code",
      "metadata": {
        "id": "DAFEgeDn6cAv",
        "colab_type": "code",
        "colab": {}
      },
      "source": [
        "query = \"adam optimizer\"\n",
        "quer_list = []\n",
        "def filter_query(q):\n",
        "  tokens = q.split()\n",
        "  tokens = [w.lower() for w in tokens]\n",
        "  table = str.maketrans('', '', string.punctuation)\n",
        "  stripped = [w.translate(table) for w in tokens]\n",
        "  words = [word for word in stripped if word.isalpha()]\n",
        "  words = [w for w in words if not w in alpha]\n",
        "  stop_words = set(stopwords.words('english'))\n",
        "  words = [w for w in words if not w in stop_words]\n",
        "  words = [w for w in words if len(w)>2]\n",
        "  words = [ps.stem(w) for w in words] \n",
        "  return words"
      ],
      "execution_count": 224,
      "outputs": []
    },
    {
      "cell_type": "code",
      "metadata": {
        "id": "zaSA3aYHDYaM",
        "colab_type": "code",
        "colab": {}
      },
      "source": [
        "from rank_bm25 import BM25Okapi\n",
        "bm25 = BM25Okapi(train_data1)"
      ],
      "execution_count": 225,
      "outputs": []
    },
    {
      "cell_type": "code",
      "metadata": {
        "id": "bTbntE6vClsY",
        "colab_type": "code",
        "colab": {}
      },
      "source": [
        "query_list= filter_query(query)\n",
        "#query_list= synonyms(query_list)"
      ],
      "execution_count": 226,
      "outputs": []
    },
    {
      "cell_type": "code",
      "metadata": {
        "id": "ULpvjjoM7Qmm",
        "colab_type": "code",
        "colab": {
          "base_uri": "https://localhost:8080/",
          "height": 34
        },
        "outputId": "a92c98d7-79f3-4657-d05e-a5525ddae94f"
      },
      "source": [
        "query_list"
      ],
      "execution_count": 227,
      "outputs": [
        {
          "output_type": "execute_result",
          "data": {
            "text/plain": [
              "['adam', 'optim']"
            ]
          },
          "metadata": {
            "tags": []
          },
          "execution_count": 227
        }
      ]
    },
    {
      "cell_type": "code",
      "metadata": {
        "id": "CsOd9Zg3LazP",
        "colab_type": "code",
        "colab": {}
      },
      "source": [
        "related_docs=[]\n",
        "\n",
        "for f in query_list:\n",
        "  a = worddic[f]\n",
        "  for x in a:\n",
        "    related_docs.append(x[0])"
      ],
      "execution_count": 228,
      "outputs": []
    },
    {
      "cell_type": "code",
      "metadata": {
        "id": "uiDi2l0tQFjn",
        "colab_type": "code",
        "colab": {}
      },
      "source": [
        "query_embedding =[]\n",
        "for f in query_list:\n",
        "  query_embedding.append(word_embedding[dictionary[f]])\n",
        "\n",
        "query_embedding_mean = np.mean(np.array(query_embedding),axis=0)"
      ],
      "execution_count": 229,
      "outputs": []
    },
    {
      "cell_type": "code",
      "metadata": {
        "id": "vNnPTHxoMtcU",
        "colab_type": "code",
        "colab": {}
      },
      "source": [
        "related_docs_unique = list(set(related_docs))"
      ],
      "execution_count": 230,
      "outputs": []
    },
    {
      "cell_type": "code",
      "metadata": {
        "id": "smDz0J-vRhdZ",
        "colab_type": "code",
        "colab": {}
      },
      "source": [
        "def similar_func(related_docs_unique,query_embedding_mean,query_list):                               \n",
        "\n",
        "  similarity={}\n",
        "  doc_scores = bm25.get_scores(query_list)\n",
        "  for f in range(len(related_docs_unique)):\n",
        "    \n",
        "    score1 = get_cosine_similarity(document_embeddings[related_docs_unique[f]],query_embedding_mean)\n",
        "    score2 = doc_scores[name_list[related_docs_unique[f]]]\n",
        "    similarity[related_docs_unique[f]]= score1*score2\n",
        "\n",
        "  similarity_sort=sorted(similarity.items(), key=operator.itemgetter(1),reverse=True)\n",
        "  return(similarity_sort)"
      ],
      "execution_count": 231,
      "outputs": []
    },
    {
      "cell_type": "code",
      "metadata": {
        "id": "YCja-kcCZPc4",
        "colab_type": "code",
        "colab": {
          "base_uri": "https://localhost:8080/",
          "height": 914
        },
        "outputId": "5dcd0036-dcdd-488e-e82e-648f32d9762c"
      },
      "source": [
        "similar_func(related_docs_unique,query_embedding_mean,query_list)"
      ],
      "execution_count": 232,
      "outputs": [
        {
          "output_type": "execute_result",
          "data": {
            "text/plain": [
              "[('Natural Language Processing with TensorFlow ( PDFDrive.com )-263.pdf',\n",
              "  5.868432632373222),\n",
              " ('Natural Language Processing with TensorFlow ( PDFDrive.com )-289.pdf',\n",
              "  3.2790836966848866),\n",
              " ('Natural Language Processing with TensorFlow ( PDFDrive.com )-120.pdf',\n",
              "  1.757400047641056),\n",
              " ('Natural Language Processing with TensorFlow ( PDFDrive.com )-37.pdf',\n",
              "  1.4633066615451669),\n",
              " ('Natural Language Processing with TensorFlow ( PDFDrive.com )-139.pdf',\n",
              "  1.3320619935939384),\n",
              " ('Natural Language Processing with TensorFlow ( PDFDrive.com )-79.pdf',\n",
              "  1.0076470386658813),\n",
              " ('Natural Language Processing with TensorFlow ( PDFDrive.com )-145.pdf',\n",
              "  0.7710443721327763),\n",
              " ('Natural Language Processing with TensorFlow ( PDFDrive.com )-80.pdf',\n",
              "  0.7037686522758102),\n",
              " ('Natural Language Processing with TensorFlow ( PDFDrive.com )-141.pdf',\n",
              "  0.6592153562095205),\n",
              " ('Natural Language Processing with TensorFlow ( PDFDrive.com )-151.pdf',\n",
              "  0.615167681419524),\n",
              " ('Natural Language Processing with TensorFlow ( PDFDrive.com )-41.pdf',\n",
              "  0.6007890680632706),\n",
              " ('Natural Language Processing with TensorFlow ( PDFDrive.com )-143.pdf',\n",
              "  0.5841459941964459),\n",
              " ('Natural Language Processing with TensorFlow ( PDFDrive.com )-148.pdf',\n",
              "  0.35025019310282096),\n",
              " ('Natural Language Processing with TensorFlow ( PDFDrive.com )-88.pdf',\n",
              "  0.30420224096301973),\n",
              " ('Natural Language Processing with TensorFlow ( PDFDrive.com )-108.pdf',\n",
              "  0.29959652155049366),\n",
              " ('Natural Language Processing with TensorFlow ( PDFDrive.com )-221.pdf',\n",
              "  0.25443784255727175),\n",
              " ('Natural Language Processing with TensorFlow ( PDFDrive.com )-144.pdf',\n",
              "  0.19877291976152772),\n",
              " ('Natural Language Processing with TensorFlow ( PDFDrive.com )-225.pdf',\n",
              "  0.13752136133537332),\n",
              " ('Natural Language Processing with TensorFlow ( PDFDrive.com )-159.pdf',\n",
              "  0.13308332540529844),\n",
              " ('Natural Language Processing with TensorFlow ( PDFDrive.com )-40.pdf',\n",
              "  0.061305782013073316),\n",
              " ('Natural Language Processing with TensorFlow ( PDFDrive.com )-258.pdf', 0.0),\n",
              " ('Natural Language Processing with TensorFlow ( PDFDrive.com )-257.pdf',\n",
              "  -0.009354684752528559),\n",
              " ('Natural Language Processing with TensorFlow ( PDFDrive.com )-312.pdf',\n",
              "  -0.03537105272871983),\n",
              " ('Natural Language Processing with TensorFlow ( PDFDrive.com )-56.pdf',\n",
              "  -0.05483617315641372),\n",
              " ('Natural Language Processing with TensorFlow ( PDFDrive.com )-282.pdf',\n",
              "  -0.24247387722781685),\n",
              " ('Natural Language Processing with TensorFlow ( PDFDrive.com )-43.pdf',\n",
              "  -0.3261865661818113)]"
            ]
          },
          "metadata": {
            "tags": []
          },
          "execution_count": 232
        }
      ]
    },
    {
      "cell_type": "code",
      "metadata": {
        "id": "4muJTKlUS8Ct",
        "colab_type": "code",
        "colab": {}
      },
      "source": [
        ""
      ],
      "execution_count": 223,
      "outputs": []
    }
  ]
}